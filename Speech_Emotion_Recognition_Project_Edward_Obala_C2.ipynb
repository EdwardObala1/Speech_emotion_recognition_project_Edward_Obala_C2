{
  "nbformat": 4,
  "nbformat_minor": 0,
  "metadata": {
    "colab": {
      "name": "Speech Emotion Recognition Project_Edward_Obala C2.ipynb",
      "provenance": []
    },
    "kernelspec": {
      "name": "python3",
      "display_name": "Python 3"
    },
    "language_info": {
      "name": "python"
    }
  },
  "cells": [
    {
      "cell_type": "code",
      "metadata": {
        "id": "cW8mO-5Yt16X"
      },
      "source": [
        "# IMPORT NECESSARY LIBRARIES\n",
        "import librosa\n",
        "%matplotlib inline\n",
        "import matplotlib.pyplot as plt\n",
        "import librosa.display\n",
        "from IPython.display import Audio\n",
        "import numpy as np\n",
        "import tensorflow as tf\n",
        "from matplotlib.pyplot import specgram\n",
        "import pandas as pd\n",
        "from sklearn.metrics import confusion_matrix\n",
        "import IPython.display as ipd  # To play sound in the notebook\n",
        "import os # interface with underlying OS that python is running on\n",
        "import sys\n",
        "from sklearn.model_selection import StratifiedShuffleSplit\n",
        "from sklearn.preprocessing import LabelEncoder\n",
        "import keras\n",
        "from keras.models import Sequential\n",
        "from keras.layers import Conv1D, MaxPooling1D, AveragePooling1D\n",
        "from keras.layers import Input, Flatten, Dropout, Activation, BatchNormalization, Dense\n",
        "from sklearn.model_selection import GridSearchCV\n",
        "from keras.wrappers.scikit_learn import KerasClassifier\n",
        "from tensorflow.keras.optimizers import SGD\n",
        "from keras.regularizers import l2\n",
        "import seaborn as sns\n",
        "from keras.callbacks import EarlyStopping, ModelCheckpoint\n",
        "from tensorflow.keras.utils import to_categorical\n",
        "from sklearn.metrics import classification_report"
      ],
      "execution_count": 3,
      "outputs": []
    },
    {
      "cell_type": "markdown",
      "metadata": {
        "id": "JMc5vqXQDrD6"
      },
      "source": [
        "<h3>HERE ARE THE FILE NAMING C0NVENTIONS IN RAVDESS SPEECH DATA SETS</h3>\n",
        "\n",
        "---\n",
        "\n",
        "\n",
        "\n",
        "---\n",
        "\n"
      ]
    },
    {
      "cell_type": "markdown",
      "metadata": {
        "id": "etyLPPAKD9Y0"
      },
      "source": [
        "<strong>Filename identifiers</strong>\n",
        "<ui>\n",
        "<li>Modality (01 = full-AV, 02 = video-only, 03 = audio-only).</li>\n",
        "<li>Vocal channel (01 = speech, 02 = song).</li>\n",
        "<li>Emotion (01 = neutral, 02 = calm, 03 = happy, 04 = sad, 05 = angry, 06 = <li>fearful, 07 = disgust, 08 = surprised).</li>\n",
        "<li>Emotional intensity (01 = normal, 02 = strong). NOTE: There is no strong <li>intensity for the 'neutral' emotion.</li>\n",
        "<li>Statement (01 = \"Kids are talking by the door\", 02 = \"Dogs are sitting by the door\").</li>\n",
        "<li>Repetition (01 = 1st repetition, 02 = 2nd repetition).</li>\n",
        "<li>Actor (01 to 24. Odd numbered actors are male, even numbered actors are female).</li>\n",
        "</ui>\n",
        "\n",
        "<strong>Filename example: 02-01-06-01-02-01-12.mp4 </strong>\n",
        "<ui>\n",
        "<li>Video-only (02)</li>\n",
        "<li>Speech (01)</li>\n",
        "<li>Fearful (06)</li>\n",
        "<li>Normal intensity (01)</li>\n",
        "<li>Statement \"dogs\" (02)</li>\n",
        "<li>1st Repetition (01)</li>\n",
        "<li>12th Actor (12) Female, as the actor ID number is even.</li><ui>"
      ]
    },
    {
      "cell_type": "markdown",
      "metadata": {
        "id": "agDwzZKbKejK"
      },
      "source": [
        "<h3>References and Quick Info</h3>\n",
        "<ui>\n",
        "the dataset used for this project - Ravdess data was found in this <a href ='https://zenodo.org/record/1188976#.YazYJy8RqJ8' >link</a></br>\n",
        "For general explanations and step to step explanation I used the following videos <li><a href = 'https://youtu.be/N1rcKBHlw-Y'>Building an emotions classifier with Python, scikit-learn and the Ravdess dataset</a></li>\n",
        " <li><a href = 'https://youtu.be/eHJrZa2LtKw'>Minor Project Batch 58|Speech emotion Recognition Using Machine Learning</a></li>\n",
        "  <li><a href = 'https://youtu.be/-VQL8ynOdVg'>Speech Emotion Recognition (Sound Classification) | Deep Learning | Python</a></li>\n",
        "  <li><a href = 'https://youtu.be/26_qiXEa8lw'>Speech Emotion Detection</a></li>\n",
        "</ui>\n",
        "\n",
        "I also referenced a bunch of articles, the key one was <a href = 'https://blog.dataiku.com/speech-emotion-recognition-deep-learning'>this</a> and a previous online course in Machine learning from Duke university I had taken which has a step to step instruction on labs\n",
        "\n",
        "<h2>Base Knowledge For Readers</h2>\n",
        "<li> Speech emotion is trained using a convolutional neural network\n",
        "<li>This works by computing the audio wave mathematical representation over a certain period and through the process of convolution their mathematical positions are computed and the similarity value is computed if it is higher than a certain % then it is associated to that feature this is similar to how image classification is done using <strong>CNN</strong> so a labeled data of a certain emotion is labeled as <strong>one</strong> and after a calculation the test variable is allocated a certain value between 0 and 1 and if it is higher than a stated cut off point it is classified as that value else not\n",
        "<li> Since ML models only identify numbers and nothing else we should convert the audio file to numerical representation. This is done using signal processing\n",
        "<li>A single audio wave consists of multiple single frequency signals. Extracting these individual, single frequency signals from the audio is called <strong>spectrum analysis</strong>. Human brains are a kind of spectrum analyzer which automatically split ups the frequency signals in the audio and help us focus more on the main component, ignoring the single frequency signals in the background"
      ]
    },
    {
      "cell_type": "markdown",
      "metadata": {
        "id": "uOrXeE1lGCkw"
      },
      "source": [
        ""
      ]
    },
    {
      "cell_type": "code",
      "metadata": {
        "colab": {
          "base_uri": "https://localhost:8080/"
        },
        "id": "UxiUQ2HuN9dQ",
        "outputId": "59e48fd2-8180-44ca-e8de-fe350cce92bb"
      },
      "source": [
        "# Mounting the dataset in Google Colab\n",
        "from google.colab import drive\n",
        "drive.mount('/content/drive', force_remount=True)"
      ],
      "execution_count": 29,
      "outputs": [
        {
          "output_type": "stream",
          "name": "stdout",
          "text": [
            "Mounted at /content/drive\n"
          ]
        }
      ]
    },
    {
      "cell_type": "code",
      "metadata": {
        "id": "So1pV7XuX3zl"
      },
      "source": [
        "# load data\n",
        "# LOAD IN FILE\n",
        "x, sr = librosa.load('/content/drive/My Drive/MachineLearning/Speech_emotion_recognition_Raves_data/Audio_Speech_Actors_01-24/Actor_01/03-01-01-01-01-01-01.wav')\n"
      ],
      "execution_count": 43,
      "outputs": []
    },
    {
      "cell_type": "markdown",
      "metadata": {
        "id": "I5Bo7eChRgSw"
      },
      "source": [
        "<h3>EDA</h3>"
      ]
    },
    {
      "cell_type": "code",
      "metadata": {
        "id": "LV3OCJ29RpmB"
      },
      "source": [
        "# tried to use librosa.output to play the audio but it is a depracated model no lonoger supported by liborsa as from 0.8.0\n",
        "# PLAY AUDIO FILE\n",
        "librosa.output.write_wav('ipd.Audio Files/MaleNeutral.wav', x, sr)\n",
        "Audio(data=x, rate=sr)"
      ],
      "execution_count": null,
      "outputs": []
    },
    {
      "cell_type": "markdown",
      "metadata": {
        "id": "4nGBiiv7ZNKo"
      },
      "source": [
        "<h4>A MALE NEUTRAL VOICE</h4>"
      ]
    },
    {
      "cell_type": "code",
      "metadata": {
        "colab": {
          "base_uri": "https://localhost:8080/",
          "height": 295
        },
        "id": "YqOqWEYkRYxF",
        "outputId": "8ee8b141-32e6-4b54-f2f6-02e8d3b50d29"
      },
      "source": [
        "# DISPLAY WAVEPLOT\n",
        "# the below plotted voice is a male voice that is neutral with little to low variation in the amplitude in audio wave frequency at the start to the end of the wave length\n",
        "plt.figure(figsize=(8, 4))\n",
        "librosa.display.waveplot(x, sr=sr)\n",
        "plt.title('Waveplot - Male Neutral')\n",
        "plt.savefig('Waveplot_MaleNeutral.png')"
      ],
      "execution_count": 34,
      "outputs": [
        {
          "output_type": "display_data",
          "data": {
            "image/png": "[encoded data removed]",
            "text/plain": [
              "<Figure size 576x288 with 1 Axes>"
            ]
          },
          "metadata": {
            "needs_background": "light"
          }
        }
      ]
    },
    {
      "cell_type": "markdown",
      "metadata": {
        "id": "jcwuDt8ESvDn"
      },
      "source": [
        "The Wave plots plot a signals amplitude envelope over time, seeing the overall shape of an emotion can help determine which feature extraction method (MFCC, STFT, Log-Mel Spectograms, Zero-Crossing Rate, Spectral Centroid, etc.) to use for modeling"
      ]
    },
    {
      "cell_type": "markdown",
      "metadata": {
        "id": "kEvA51PfVtlp"
      },
      "source": [
        "I resorted to using Log-Mel Spectograms for further representation of the data which can be done with librosa.display.specshow"
      ]
    },
    {
      "cell_type": "code",
      "metadata": {
        "colab": {
          "base_uri": "https://localhost:8080/",
          "height": 295
        },
        "id": "D8LISP3yWMni",
        "outputId": "735ed48f-86dc-4e11-c181-6e6b8e024eab"
      },
      "source": [
        "# CREATE LOG MEL SPECTROGRAM\n",
        "spectrogram = librosa.feature.melspectrogram(y=x, sr=sr, n_mels=128,fmax=8000) \n",
        "spectrogram = librosa.power_to_db(spectrogram)\n",
        "librosa.display.specshow(spectrogram, y_axis='mel', fmax=8000, x_axis='time');\n",
        "plt.title('Mel Spectrogram - Male Neutral')\n",
        "plt.savefig('MelSpec_MaleNeutral.png')\n",
        "plt.colorbar(format='%+2.0f dB');"
      ],
      "execution_count": 35,
      "outputs": [
        {
          "output_type": "display_data",
          "data": {
            "image/png": "[encoded data removed]",
            "text/plain": [
              "<Figure size 432x288 with 2 Axes>"
            ]
          },
          "metadata": {
            "needs_background": "light"
          }
        }
      ]
    },
    {
      "cell_type": "markdown",
      "metadata": {
        "id": "uhsyGG3QZYX8"
      },
      "source": [
        "<h4>FEMALE CALM</h4>"
      ]
    },
    {
      "cell_type": "code",
      "metadata": {
        "id": "1JeD-7ZXZdeu"
      },
      "source": [
        "# LOAD FEMALE AUDIO FILE\n",
        "x, sr = librosa.load('/content/drive/My Drive/MachineLearning/Speech_emotion_recognition_Raves_data/Audio_Speech_Actors_01-24/Actor_02//03-01-02-01-01-01-02.wav')\n"
      ],
      "execution_count": 47,
      "outputs": []
    },
    {
      "cell_type": "code",
      "metadata": {
        "colab": {
          "base_uri": "https://localhost:8080/",
          "height": 295
        },
        "id": "glsgD4o-Z0t9",
        "outputId": "d3a37bc1-a3d9-4ba8-8d29-3ffa06ddab22"
      },
      "source": [
        "# DISPLAY WAVEPLOT\n",
        "plt.figure(figsize=(8, 4))\n",
        "librosa.display.waveplot(x, sr=sr)\n",
        "plt.title('Waveplot - Female Calm')\n",
        "plt.savefig('Waveplot_FemaleCalm.png')"
      ],
      "execution_count": 48,
      "outputs": [
        {
          "output_type": "display_data",
          "data": {
            "image/png": "[encoded data removed]",
            "text/plain": [
              "<Figure size 576x288 with 1 Axes>"
            ]
          },
          "metadata": {
            "needs_background": "light"
          }
        }
      ]
    },
    {
      "cell_type": "code",
      "metadata": {
        "colab": {
          "base_uri": "https://localhost:8080/",
          "height": 295
        },
        "id": "-ODLDr68Z-Zh",
        "outputId": "43fc2dee-395d-4508-ee5b-c8495d7c2b8f"
      },
      "source": [
        "# CREATE LOG MEL SPECTROGRAM\n",
        "spectrogram = librosa.feature.melspectrogram(y=x, sr=sr, n_mels=128,fmax=8000) \n",
        "spectrogram = librosa.power_to_db(spectrogram)\n",
        "\n",
        "librosa.display.specshow(spectrogram, y_axis='mel', fmax=8000, x_axis='time');\n",
        "plt.title('Mel Spectrogram - Female Calm')\n",
        "plt.savefig('MelSpec_FemaleCalm.png')\n",
        "plt.colorbar(format='%+2.0f dB');"
      ],
      "execution_count": 50,
      "outputs": [
        {
          "output_type": "display_data",
          "data": {
            "image/png": "[encoded data removed]",
            "text/plain": [
              "<Figure size 432x288 with 2 Axes>"
            ]
          },
          "metadata": {
            "needs_background": "light"
          }
        }
      ]
    },
    {
      "cell_type": "markdown",
      "metadata": {
        "id": "zHeiExDpUVUC"
      },
      "source": [
        "<h3>FEATURE EXTRACTION</h3>"
      ]
    },
    {
      "cell_type": "markdown",
      "metadata": {
        "id": "aC8s4LEKUmjU"
      },
      "source": [
        "A single wave form contains multiple frequency signals to extract this we will be performing a process <strong>`spectrum analysis`</strong></br>\n",
        "The human brain for example hears a lot of noise but it picks up the frequency that it wants to focus on and analyzes that specific frequency range this can be done in DL using <strong>`fourier transform`</strong></br> \n",
        "which is a mathematical formula to do so. it basically transforms a time-domain signal into a frequency-domain signal. We now have information on how amplitude and frequency vary with time (separately, not together). "
      ]
    },
    {
      "cell_type": "code",
      "metadata": {
        "colab": {
          "base_uri": "https://localhost:8080/"
        },
        "id": "KVShvljtXthe",
        "outputId": "97985485-c6bb-4280-d930-5e39d63a4734"
      },
      "source": [
        "# CREATE DIRECTORY OF AUDIO FILES \n",
        "audio = \"/content/drive/My Drive/MachineLearning/Speech_emotion_recognition_Raves_data/Audio_Speech_Actors_01-24/\"\n",
        "actor_folders = os.listdir(audio) #list files in audio directory\n",
        "actor_folders.sort() \n",
        "actor_folders[0:5]"
      ],
      "execution_count": 51,
      "outputs": [
        {
          "output_type": "execute_result",
          "data": {
            "text/plain": [
              "['Actor_01', 'Actor_02', 'Actor_03', 'Actor_04', 'Actor_05']"
            ]
          },
          "metadata": {},
          "execution_count": 51
        }
      ]
    },
    {
      "cell_type": "code",
      "metadata": {
        "id": "CGMXEBZQUUSt"
      },
      "source": [
        "# CREATE FUNCTION TO EXTRACT EMOTION NUMBER, ACTOR AND GENDER LABEL\n",
        "\n",
        "emotion = []\n",
        "gender = []\n",
        "actor = []\n",
        "file_path = []\n",
        "for i in actor_folders:\n",
        "    filename = os.listdir(audio + i) #iterate over Actor folders\n",
        "    for f in filename: # go through files in Actor folder\n",
        "        part = f.split('.')[0].split('-')\n",
        "        emotion.append(int(part[2]))\n",
        "        actor.append(int(part[6]))\n",
        "        bg = int(part[6])\n",
        "        if bg%2 == 0:\n",
        "            bg = \"female\"\n",
        "        else:\n",
        "            bg = \"male\"\n",
        "        gender.append(bg)\n",
        "        file_path.append(audio + i + '/' + f)\n",
        "# PUT EXTRACTED LABELS WITH FILEPATH INTO DATAFRAME\n",
        "audio_df = pd.DataFrame(emotion)\n",
        "audio_df = audio_df.replace({1:'neutral', 2:'calm', 3:'happy', 4:'sad', 5:'angry', 6:'fear', 7:'disgust', 8:'surprise'})\n",
        "audio_df = pd.concat([pd.DataFrame(gender),audio_df,pd.DataFrame(actor)],axis=1)\n",
        "audio_df.columns = ['gender','emotion','actor']\n",
        "audio_df = pd.concat([audio_df,pd.DataFrame(file_path, columns = ['path'])],axis=1)"
      ],
      "execution_count": 52,
      "outputs": []
    },
    {
      "cell_type": "code",
      "metadata": {
        "colab": {
          "base_uri": "https://localhost:8080/",
          "height": 419
        },
        "id": "rGNecl3EaVPo",
        "outputId": "8032e0b9-0510-4a81-91d4-8d546321b809"
      },
      "source": [
        "# PUT EXTRACTED LABELS WITH FILEPATH INTO DATAFRAME\n",
        "audio_df = pd.DataFrame(emotion)\n",
        "audio_df = audio_df.replace({1:'neutral', 2:'calm', 3:'happy', 4:'sad', 5:'angry', 6:'fear', 7:'disgust', 8:'surprise'})\n",
        "audio_df = pd.concat([pd.DataFrame(gender),audio_df,pd.DataFrame(actor)],axis=1)\n",
        "audio_df.columns = ['gender','emotion','actor']\n",
        "audio_df = pd.concat([audio_df,pd.DataFrame(file_path, columns = ['path'])],axis=1)\n",
        "audio_df"
      ],
      "execution_count": 53,
      "outputs": [
        {
          "output_type": "execute_result",
          "data": {
            "text/html": [
              "<div>\n",
              "<style scoped>\n",
              "    .dataframe tbody tr th:only-of-type {\n",
              "        vertical-align: middle;\n",
              "    }\n",
              "\n",
              "    .dataframe tbody tr th {\n",
              "        vertical-align: top;\n",
              "    }\n",
              "\n",
              "    .dataframe thead th {\n",
              "        text-align: right;\n",
              "    }\n",
              "</style>\n",
              "<table border=\"1\" class=\"dataframe\">\n",
              "  <thead>\n",
              "    <tr style=\"text-align: right;\">\n",
              "      <th></th>\n",
              "      <th>gender</th>\n",
              "      <th>emotion</th>\n",
              "      <th>actor</th>\n",
              "      <th>path</th>\n",
              "    </tr>\n",
              "  </thead>\n",
              "  <tbody>\n",
              "    <tr>\n",
              "      <th>0</th>\n",
              "      <td>male</td>\n",
              "      <td>calm</td>\n",
              "      <td>1</td>\n",
              "      <td>/content/drive/My Drive/MachineLearning/Speech...</td>\n",
              "    </tr>\n",
              "    <tr>\n",
              "      <th>1</th>\n",
              "      <td>male</td>\n",
              "      <td>neutral</td>\n",
              "      <td>1</td>\n",
              "      <td>/content/drive/My Drive/MachineLearning/Speech...</td>\n",
              "    </tr>\n",
              "    <tr>\n",
              "      <th>2</th>\n",
              "      <td>male</td>\n",
              "      <td>calm</td>\n",
              "      <td>1</td>\n",
              "      <td>/content/drive/My Drive/MachineLearning/Speech...</td>\n",
              "    </tr>\n",
              "    <tr>\n",
              "      <th>3</th>\n",
              "      <td>male</td>\n",
              "      <td>calm</td>\n",
              "      <td>1</td>\n",
              "      <td>/content/drive/My Drive/MachineLearning/Speech...</td>\n",
              "    </tr>\n",
              "    <tr>\n",
              "      <th>4</th>\n",
              "      <td>male</td>\n",
              "      <td>neutral</td>\n",
              "      <td>1</td>\n",
              "      <td>/content/drive/My Drive/MachineLearning/Speech...</td>\n",
              "    </tr>\n",
              "    <tr>\n",
              "      <th>...</th>\n",
              "      <td>...</td>\n",
              "      <td>...</td>\n",
              "      <td>...</td>\n",
              "      <td>...</td>\n",
              "    </tr>\n",
              "    <tr>\n",
              "      <th>1435</th>\n",
              "      <td>female</td>\n",
              "      <td>disgust</td>\n",
              "      <td>24</td>\n",
              "      <td>/content/drive/My Drive/MachineLearning/Speech...</td>\n",
              "    </tr>\n",
              "    <tr>\n",
              "      <th>1436</th>\n",
              "      <td>female</td>\n",
              "      <td>surprise</td>\n",
              "      <td>24</td>\n",
              "      <td>/content/drive/My Drive/MachineLearning/Speech...</td>\n",
              "    </tr>\n",
              "    <tr>\n",
              "      <th>1437</th>\n",
              "      <td>female</td>\n",
              "      <td>surprise</td>\n",
              "      <td>24</td>\n",
              "      <td>/content/drive/My Drive/MachineLearning/Speech...</td>\n",
              "    </tr>\n",
              "    <tr>\n",
              "      <th>1438</th>\n",
              "      <td>female</td>\n",
              "      <td>surprise</td>\n",
              "      <td>24</td>\n",
              "      <td>/content/drive/My Drive/MachineLearning/Speech...</td>\n",
              "    </tr>\n",
              "    <tr>\n",
              "      <th>1439</th>\n",
              "      <td>female</td>\n",
              "      <td>surprise</td>\n",
              "      <td>24</td>\n",
              "      <td>/content/drive/My Drive/MachineLearning/Speech...</td>\n",
              "    </tr>\n",
              "  </tbody>\n",
              "</table>\n",
              "<p>1440 rows × 4 columns</p>\n",
              "</div>"
            ],
            "text/plain": [
              "      gender  ...                                               path\n",
              "0       male  ...  /content/drive/My Drive/MachineLearning/Speech...\n",
              "1       male  ...  /content/drive/My Drive/MachineLearning/Speech...\n",
              "2       male  ...  /content/drive/My Drive/MachineLearning/Speech...\n",
              "3       male  ...  /content/drive/My Drive/MachineLearning/Speech...\n",
              "4       male  ...  /content/drive/My Drive/MachineLearning/Speech...\n",
              "...      ...  ...                                                ...\n",
              "1435  female  ...  /content/drive/My Drive/MachineLearning/Speech...\n",
              "1436  female  ...  /content/drive/My Drive/MachineLearning/Speech...\n",
              "1437  female  ...  /content/drive/My Drive/MachineLearning/Speech...\n",
              "1438  female  ...  /content/drive/My Drive/MachineLearning/Speech...\n",
              "1439  female  ...  /content/drive/My Drive/MachineLearning/Speech...\n",
              "\n",
              "[1440 rows x 4 columns]"
            ]
          },
          "metadata": {},
          "execution_count": 53
        }
      ]
    },
    {
      "cell_type": "code",
      "metadata": {
        "colab": {
          "base_uri": "https://localhost:8080/",
          "height": 413
        },
        "id": "MAoOCwZqFlgy",
        "outputId": "0983f0c4-5fb4-4332-9695-466c516981ef"
      },
      "source": [
        "# ENSURE GENDER,EMOTION, AND ACTOR COLUMN VALUES ARE CORRECT\n",
        "pd.set_option('display.max_colwidth', -1)\n",
        "\n",
        "audio_df.sample(10)"
      ],
      "execution_count": 54,
      "outputs": [
        {
          "output_type": "stream",
          "name": "stderr",
          "text": [
            "/usr/local/lib/python3.7/dist-packages/ipykernel_launcher.py:2: FutureWarning: Passing a negative integer is deprecated in version 1.0 and will not be supported in future version. Instead, use None to not limit the column width.\n",
            "  \n"
          ]
        },
        {
          "output_type": "execute_result",
          "data": {
            "text/html": [
              "<div>\n",
              "<style scoped>\n",
              "    .dataframe tbody tr th:only-of-type {\n",
              "        vertical-align: middle;\n",
              "    }\n",
              "\n",
              "    .dataframe tbody tr th {\n",
              "        vertical-align: top;\n",
              "    }\n",
              "\n",
              "    .dataframe thead th {\n",
              "        text-align: right;\n",
              "    }\n",
              "</style>\n",
              "<table border=\"1\" class=\"dataframe\">\n",
              "  <thead>\n",
              "    <tr style=\"text-align: right;\">\n",
              "      <th></th>\n",
              "      <th>gender</th>\n",
              "      <th>emotion</th>\n",
              "      <th>actor</th>\n",
              "      <th>path</th>\n",
              "    </tr>\n",
              "  </thead>\n",
              "  <tbody>\n",
              "    <tr>\n",
              "      <th>48</th>\n",
              "      <td>male</td>\n",
              "      <td>fear</td>\n",
              "      <td>1</td>\n",
              "      <td>/content/drive/My Drive/MachineLearning/Speech_emotion_recognition_Raves_data/Audio_Speech_Actors_01-24/Actor_01/03-01-06-02-01-02-01.wav</td>\n",
              "    </tr>\n",
              "    <tr>\n",
              "      <th>515</th>\n",
              "      <td>male</td>\n",
              "      <td>fear</td>\n",
              "      <td>9</td>\n",
              "      <td>/content/drive/My Drive/MachineLearning/Speech_emotion_recognition_Raves_data/Audio_Speech_Actors_01-24/Actor_09/03-01-06-01-02-01-09.wav</td>\n",
              "    </tr>\n",
              "    <tr>\n",
              "      <th>284</th>\n",
              "      <td>male</td>\n",
              "      <td>disgust</td>\n",
              "      <td>5</td>\n",
              "      <td>/content/drive/My Drive/MachineLearning/Speech_emotion_recognition_Raves_data/Audio_Speech_Actors_01-24/Actor_05/03-01-07-02-02-01-05.wav</td>\n",
              "    </tr>\n",
              "    <tr>\n",
              "      <th>1076</th>\n",
              "      <td>female</td>\n",
              "      <td>surprise</td>\n",
              "      <td>18</td>\n",
              "      <td>/content/drive/My Drive/MachineLearning/Speech_emotion_recognition_Raves_data/Audio_Speech_Actors_01-24/Actor_18/03-01-08-01-02-01-18.wav</td>\n",
              "    </tr>\n",
              "    <tr>\n",
              "      <th>160</th>\n",
              "      <td>male</td>\n",
              "      <td>disgust</td>\n",
              "      <td>3</td>\n",
              "      <td>/content/drive/My Drive/MachineLearning/Speech_emotion_recognition_Raves_data/Audio_Speech_Actors_01-24/Actor_03/03-01-07-01-01-01-03.wav</td>\n",
              "    </tr>\n",
              "    <tr>\n",
              "      <th>1279</th>\n",
              "      <td>female</td>\n",
              "      <td>sad</td>\n",
              "      <td>22</td>\n",
              "      <td>/content/drive/My Drive/MachineLearning/Speech_emotion_recognition_Raves_data/Audio_Speech_Actors_01-24/Actor_22/03-01-04-01-01-02-22.wav</td>\n",
              "    </tr>\n",
              "    <tr>\n",
              "      <th>1018</th>\n",
              "      <td>male</td>\n",
              "      <td>surprise</td>\n",
              "      <td>17</td>\n",
              "      <td>/content/drive/My Drive/MachineLearning/Speech_emotion_recognition_Raves_data/Audio_Speech_Actors_01-24/Actor_17/03-01-08-02-02-01-17.wav</td>\n",
              "    </tr>\n",
              "    <tr>\n",
              "      <th>382</th>\n",
              "      <td>male</td>\n",
              "      <td>sad</td>\n",
              "      <td>7</td>\n",
              "      <td>/content/drive/My Drive/MachineLearning/Speech_emotion_recognition_Raves_data/Audio_Speech_Actors_01-24/Actor_07/03-01-04-01-02-01-07.wav</td>\n",
              "    </tr>\n",
              "    <tr>\n",
              "      <th>593</th>\n",
              "      <td>female</td>\n",
              "      <td>surprise</td>\n",
              "      <td>10</td>\n",
              "      <td>/content/drive/My Drive/MachineLearning/Speech_emotion_recognition_Raves_data/Audio_Speech_Actors_01-24/Actor_10/03-01-08-02-01-01-10.wav</td>\n",
              "    </tr>\n",
              "    <tr>\n",
              "      <th>713</th>\n",
              "      <td>female</td>\n",
              "      <td>disgust</td>\n",
              "      <td>12</td>\n",
              "      <td>/content/drive/My Drive/MachineLearning/Speech_emotion_recognition_Raves_data/Audio_Speech_Actors_01-24/Actor_12/03-01-07-01-01-01-12.wav</td>\n",
              "    </tr>\n",
              "  </tbody>\n",
              "</table>\n",
              "</div>"
            ],
            "text/plain": [
              "      gender  ...                                                                                                                                       path\n",
              "48    male    ...  /content/drive/My Drive/MachineLearning/Speech_emotion_recognition_Raves_data/Audio_Speech_Actors_01-24/Actor_01/03-01-06-02-01-02-01.wav\n",
              "515   male    ...  /content/drive/My Drive/MachineLearning/Speech_emotion_recognition_Raves_data/Audio_Speech_Actors_01-24/Actor_09/03-01-06-01-02-01-09.wav\n",
              "284   male    ...  /content/drive/My Drive/MachineLearning/Speech_emotion_recognition_Raves_data/Audio_Speech_Actors_01-24/Actor_05/03-01-07-02-02-01-05.wav\n",
              "1076  female  ...  /content/drive/My Drive/MachineLearning/Speech_emotion_recognition_Raves_data/Audio_Speech_Actors_01-24/Actor_18/03-01-08-01-02-01-18.wav\n",
              "160   male    ...  /content/drive/My Drive/MachineLearning/Speech_emotion_recognition_Raves_data/Audio_Speech_Actors_01-24/Actor_03/03-01-07-01-01-01-03.wav\n",
              "1279  female  ...  /content/drive/My Drive/MachineLearning/Speech_emotion_recognition_Raves_data/Audio_Speech_Actors_01-24/Actor_22/03-01-04-01-01-02-22.wav\n",
              "1018  male    ...  /content/drive/My Drive/MachineLearning/Speech_emotion_recognition_Raves_data/Audio_Speech_Actors_01-24/Actor_17/03-01-08-02-02-01-17.wav\n",
              "382   male    ...  /content/drive/My Drive/MachineLearning/Speech_emotion_recognition_Raves_data/Audio_Speech_Actors_01-24/Actor_07/03-01-04-01-02-01-07.wav\n",
              "593   female  ...  /content/drive/My Drive/MachineLearning/Speech_emotion_recognition_Raves_data/Audio_Speech_Actors_01-24/Actor_10/03-01-08-02-01-01-10.wav\n",
              "713   female  ...  /content/drive/My Drive/MachineLearning/Speech_emotion_recognition_Raves_data/Audio_Speech_Actors_01-24/Actor_12/03-01-07-01-01-01-12.wav\n",
              "\n",
              "[10 rows x 4 columns]"
            ]
          },
          "metadata": {},
          "execution_count": 54
        }
      ]
    },
    {
      "cell_type": "code",
      "metadata": {
        "colab": {
          "base_uri": "https://localhost:8080/",
          "height": 315
        },
        "id": "D5t7RRlDcDk0",
        "outputId": "d6ac8a05-2970-43f8-8abe-69437ddb370d"
      },
      "source": [
        "# LOOK AT DISTRIBUTION OF CLASSES\n",
        "audio_df.emotion.value_counts().plot(kind='bar')"
      ],
      "execution_count": 55,
      "outputs": [
        {
          "output_type": "execute_result",
          "data": {
            "text/plain": [
              "<matplotlib.axes._subplots.AxesSubplot at 0x7fb9440617d0>"
            ]
          },
          "metadata": {},
          "execution_count": 55
        },
        {
          "output_type": "display_data",
          "data": {
            "image/png": "[encoded data removed]",
            "text/plain": [
              "<Figure size 432x288 with 1 Axes>"
            ]
          },
          "metadata": {
            "needs_background": "light"
          }
        }
      ]
    },
    {
      "cell_type": "code",
      "metadata": {
        "id": "A0_J6FBkcFrF"
      },
      "source": [
        "# EXPORT TO CSV\n",
        "audio_df.to_csv('/content/drive/My Drive/MachineLearning/Speech_emotion_recognition_Raves_data/audio.csv')"
      ],
      "execution_count": 57,
      "outputs": []
    },
    {
      "cell_type": "code",
      "metadata": {
        "colab": {
          "base_uri": "https://localhost:8080/",
          "height": 561
        },
        "id": "j_s0jPiScJd8",
        "outputId": "909623c6-2663-4efd-b4df-d01a644c8a45"
      },
      "source": [
        "# ITERATE OVER ALL AUDIO FILES AND EXTRACT LOG MEL SPECTROGRAM MEAN VALUES INTO DF FOR MODELING \n",
        "df = pd.DataFrame(columns=['mel_spectrogram'])\n",
        "\n",
        "counter=0\n",
        "\n",
        "for index,path in enumerate(audio_df.path):\n",
        "    X, sample_rate = librosa.load(path, res_type='kaiser_fast',duration=3,sr=44100,offset=0.5)\n",
        "    \n",
        "    \n",
        "    spectrogram = librosa.feature.melspectrogram(y=X, sr=sample_rate, n_mels=128,fmax=8000) \n",
        "    db_spec = librosa.power_to_db(spectrogram)\n",
        "    \n",
        "    log_spectrogram = np.mean(db_spec, axis = 0)\n",
        "\n",
        "    \n",
        "    df.loc[counter] = [log_spectrogram]\n",
        "    counter=counter+1   \n",
        "\n",
        "print(len(df))\n",
        "df.head()"
      ],
      "execution_count": 59,
      "outputs": [
        {
          "output_type": "stream",
          "name": "stdout",
          "text": [
            "1440\n"
          ]
        },
        {
          "output_type": "execute_result",
          "data": {
            "text/html": [
              "<div>\n",
              "<style scoped>\n",
              "    .dataframe tbody tr th:only-of-type {\n",
              "        vertical-align: middle;\n",
              "    }\n",
              "\n",
              "    .dataframe tbody tr th {\n",
              "        vertical-align: top;\n",
              "    }\n",
              "\n",
              "    .dataframe thead th {\n",
              "        text-align: right;\n",
              "    }\n",
              "</style>\n",
              "<table border=\"1\" class=\"dataframe\">\n",
              "  <thead>\n",
              "    <tr style=\"text-align: right;\">\n",
              "      <th></th>\n",
              "      <th>mel_spectrogram</th>\n",
              "    </tr>\n",
              "  </thead>\n",
              "  <tbody>\n",
              "    <tr>\n",
              "      <th>0</th>\n",
              "      <td>[-83.15074, -83.15074, -83.15074, -83.15074, -83.15074, -83.15074, -83.15074, -83.13651, -83.108086, -83.15074, -83.15074, -83.14127, -82.37242, -82.121544, -81.68829, -80.64291, -81.102776, -80.855865, -81.77177, -82.979225, -82.591644, -82.88915, -83.06165, -83.07818, -83.15074, -83.0173, -82.86421, -82.346596, -80.91314, -80.11132, -81.33677, -81.87924, -82.3181, -82.660355, -82.50171, -82.17024, -80.8913, -78.14449, -74.36539, -74.15344, -75.37415, -73.597206, -66.10196, -47.972996, -43.003082, -43.90949, -45.47786, -45.996483, -46.930073, -47.1809, -42.500797, -38.555683, -37.900314, -37.336475, -36.446327, -36.164238, -36.752796, -37.54784, -38.598763, -39.12076, -40.033073, -41.364414, -43.760956, -46.875134, -49.35661, -51.266106, -52.824192, -52.858, -51.611694, -49.115288, -46.448296, -44.444542, -43.17571, -42.92389, -41.898678, -42.44884, -43.220024, -44.633705, -45.80103, -46.041237, -46.174774, -47.684353, -51.810497, -57.355427, -59.37068, -61.823837, -61.048126, -45.2779, -40.569912, -43.05929, -45.379387, -46.78522, -46.149567, -44.781475, -45.456932, -46.674816, -44.94486, -41.471035, -40.8123, -41.233265, ...]</td>\n",
              "    </tr>\n",
              "    <tr>\n",
              "      <th>1</th>\n",
              "      <td>[-76.38477, -76.38477, -76.38477, -76.38477, -76.38477, -76.38477, -76.38477, -76.38477, -76.38477, -76.38477, -76.38477, -76.38477, -76.38477, -76.38477, -76.38477, -76.38477, -76.367455, -76.37206, -76.38477, -76.38477, -76.17391, -75.7191, -75.94153, -75.64262, -75.90894, -75.83096, -75.7507, -74.77977, -72.83129, -71.26305, -66.522675, -66.2235, -70.02048, -72.228935, -72.31369, -73.103096, -73.700745, -74.24736, -72.63008, -70.08872, -71.00686, -71.960075, -64.49295, -45.909077, -40.032604, -41.116264, -43.53601, -40.618973, -35.053967, -32.517483, -32.09255, -32.517563, -33.537037, -33.267624, -35.378643, -40.17928, -42.373196, -43.332584, -42.339584, -40.89039, -37.12334, -35.466946, -33.28547, -32.946716, -32.992203, -33.490017, -35.94524, -41.89631, -47.815334, -50.32318, -45.502876, -38.28941, -38.666992, -41.103245, -41.816746, -42.41458, -41.487278, -39.022465, -35.519356, -33.715797, -33.540745, -34.01699, -34.09233, -32.436264, -31.850286, -33.650314, -38.19356, -42.97809, -45.402485, -45.206005, -44.586697, -45.93698, -45.795696, -40.709064, -37.872944, -38.022907, -38.164814, -39.510433, -41.684795, -42.941948, ...]</td>\n",
              "    </tr>\n",
              "    <tr>\n",
              "      <th>2</th>\n",
              "      <td>[-79.61142, -79.61142, -79.61142, -79.61142, -79.61142, -79.61142, -79.61142, -79.61037, -79.61142, -79.5505, -79.3984, -79.58202, -79.61142, -79.61142, -79.6029, -79.60936, -79.61142, -79.6101, -79.575806, -79.36379, -79.24537, -79.572586, -79.61142, -79.10489, -78.0653, -78.34661, -79.32881, -79.61142, -79.3803, -76.99489, -69.49426, -67.420494, -71.69285, -77.55179, -78.59408, -77.33197, -76.80479, -75.728836, -73.6734, -73.63851, -73.79517, -73.320366, -53.179367, -41.105118, -39.716854, -37.36446, -34.027317, -32.77425, -31.815086, -31.81043, -31.427832, -31.59653, -32.039608, -31.864943, -32.456676, -33.20365, -33.501263, -33.637108, -34.00089, -34.49173, -34.897243, -35.60857, -37.031387, -38.84752, -38.970398, -39.801884, -42.110844, -44.887142, -48.34272, -52.338825, -54.5935, -55.26956, -48.771236, -45.475616, -46.225468, -46.426723, -46.939034, -44.739998, -42.745537, -40.823933, -37.87938, -37.480846, -38.51911, -39.358578, -39.506084, -39.92851, -40.663425, -41.11452, -40.952694, -40.562237, -40.20431, -41.16925, -42.07095, -43.064137, -43.627422, -42.979515, -41.427296, -40.834106, -42.271984, -38.925453, ...]</td>\n",
              "    </tr>\n",
              "    <tr>\n",
              "      <th>3</th>\n",
              "      <td>[-76.82804, -76.82804, -76.82804, -76.82804, -76.82804, -76.82804, -76.65121, -76.677536, -76.82804, -76.82804, -76.82804, -76.82804, -76.82804, -76.82804, -76.82804, -76.80453, -76.5322, -76.44933, -76.64952, -76.82804, -76.82804, -76.82804, -76.82804, -76.82804, -76.82804, -76.82804, -76.82804, -76.82804, -76.82804, -76.82804, -76.82804, -76.82804, -76.82804, -76.82804, -76.82804, -76.82804, -76.82804, -76.568886, -74.67807, -73.09236, -74.03147, -74.68943, -64.24568, -47.49774, -41.946453, -39.79607, -39.147137, -40.741, -42.837166, -43.604366, -42.124516, -37.26098, -35.17254, -34.234646, -34.051994, -33.869507, -32.931118, -32.81923, -34.01837, -36.192253, -41.01848, -45.500793, -46.88576, -48.46097, -48.98278, -49.02873, -48.43186, -48.262344, -47.850143, -45.676563, -43.822456, -43.251183, -42.20799, -42.379887, -43.17235, -42.853916, -43.618324, -44.138092, -44.0167, -44.09061, -44.682087, -45.904766, -46.873642, -47.451687, -47.429253, -50.21714, -54.75737, -57.29435, -58.95968, -59.25489, -61.76557, -57.759243, -42.46049, -38.936752, -42.34256, -43.494522, -43.32022, -41.76798, -41.904247, -43.785294, ...]</td>\n",
              "    </tr>\n",
              "    <tr>\n",
              "      <th>4</th>\n",
              "      <td>[-75.26845, -75.26845, -75.26845, -75.26845, -75.26845, -75.26845, -75.26845, -75.26845, -75.26845, -75.26845, -75.26845, -75.26845, -75.26845, -75.26845, -75.243004, -75.26845, -75.26845, -75.26845, -75.26845, -75.26845, -75.26845, -75.24528, -75.04568, -74.99168, -75.19989, -75.26845, -75.26845, -75.26845, -75.26845, -75.26845, -75.26845, -75.26845, -75.26845, -75.26845, -75.26845, -74.34854, -73.92539, -73.56352, -73.27889, -72.94659, -72.36573, -72.77169, -62.66063, -41.765488, -35.625652, -32.697567, -31.232754, -29.582481, -29.005156, -28.940495, -28.66669, -28.22058, -27.420063, -26.695297, -26.731213, -27.104462, -28.481537, -30.688972, -32.87745, -36.790688, -41.635178, -41.879257, -40.09379, -39.499546, -39.355, -39.876854, -40.17552, -38.197384, -36.35471, -34.195213, -33.323788, -33.642143, -33.76531, -34.102013, -35.333183, -36.94313, -37.931232, -39.940765, -39.828728, -39.29128, -37.974392, -39.12242, -41.313232, -35.535824, -33.189327, -33.90681, -36.375805, -41.008472, -43.743633, -40.78038, -37.379166, -36.989563, -37.33643, -38.593864, -41.70642, -45.89121, -46.88004, -47.354614, -47.581882, -45.365158, ...]</td>\n",
              "    </tr>\n",
              "  </tbody>\n",
              "</table>\n",
              "</div>"
            ],
            "text/plain": [
              "                                                                                                                                                                                                                                                                                                                                                                                                                                                                                                                                                                                                                                                                                                                                                                                                                                                                                                                                                                                                                                                                                                                                                                                 mel_spectrogram\n",
              "0  [-83.15074, -83.15074, -83.15074, -83.15074, -83.15074, -83.15074, -83.15074, -83.13651, -83.108086, -83.15074, -83.15074, -83.14127, -82.37242, -82.121544, -81.68829, -80.64291, -81.102776, -80.855865, -81.77177, -82.979225, -82.591644, -82.88915, -83.06165, -83.07818, -83.15074, -83.0173, -82.86421, -82.346596, -80.91314, -80.11132, -81.33677, -81.87924, -82.3181, -82.660355, -82.50171, -82.17024, -80.8913, -78.14449, -74.36539, -74.15344, -75.37415, -73.597206, -66.10196, -47.972996, -43.003082, -43.90949, -45.47786, -45.996483, -46.930073, -47.1809, -42.500797, -38.555683, -37.900314, -37.336475, -36.446327, -36.164238, -36.752796, -37.54784, -38.598763, -39.12076, -40.033073, -41.364414, -43.760956, -46.875134, -49.35661, -51.266106, -52.824192, -52.858, -51.611694, -49.115288, -46.448296, -44.444542, -43.17571, -42.92389, -41.898678, -42.44884, -43.220024, -44.633705, -45.80103, -46.041237, -46.174774, -47.684353, -51.810497, -57.355427, -59.37068, -61.823837, -61.048126, -45.2779, -40.569912, -43.05929, -45.379387, -46.78522, -46.149567, -44.781475, -45.456932, -46.674816, -44.94486, -41.471035, -40.8123, -41.233265, ...]   \n",
              "1  [-76.38477, -76.38477, -76.38477, -76.38477, -76.38477, -76.38477, -76.38477, -76.38477, -76.38477, -76.38477, -76.38477, -76.38477, -76.38477, -76.38477, -76.38477, -76.38477, -76.367455, -76.37206, -76.38477, -76.38477, -76.17391, -75.7191, -75.94153, -75.64262, -75.90894, -75.83096, -75.7507, -74.77977, -72.83129, -71.26305, -66.522675, -66.2235, -70.02048, -72.228935, -72.31369, -73.103096, -73.700745, -74.24736, -72.63008, -70.08872, -71.00686, -71.960075, -64.49295, -45.909077, -40.032604, -41.116264, -43.53601, -40.618973, -35.053967, -32.517483, -32.09255, -32.517563, -33.537037, -33.267624, -35.378643, -40.17928, -42.373196, -43.332584, -42.339584, -40.89039, -37.12334, -35.466946, -33.28547, -32.946716, -32.992203, -33.490017, -35.94524, -41.89631, -47.815334, -50.32318, -45.502876, -38.28941, -38.666992, -41.103245, -41.816746, -42.41458, -41.487278, -39.022465, -35.519356, -33.715797, -33.540745, -34.01699, -34.09233, -32.436264, -31.850286, -33.650314, -38.19356, -42.97809, -45.402485, -45.206005, -44.586697, -45.93698, -45.795696, -40.709064, -37.872944, -38.022907, -38.164814, -39.510433, -41.684795, -42.941948, ...]\n",
              "2  [-79.61142, -79.61142, -79.61142, -79.61142, -79.61142, -79.61142, -79.61142, -79.61037, -79.61142, -79.5505, -79.3984, -79.58202, -79.61142, -79.61142, -79.6029, -79.60936, -79.61142, -79.6101, -79.575806, -79.36379, -79.24537, -79.572586, -79.61142, -79.10489, -78.0653, -78.34661, -79.32881, -79.61142, -79.3803, -76.99489, -69.49426, -67.420494, -71.69285, -77.55179, -78.59408, -77.33197, -76.80479, -75.728836, -73.6734, -73.63851, -73.79517, -73.320366, -53.179367, -41.105118, -39.716854, -37.36446, -34.027317, -32.77425, -31.815086, -31.81043, -31.427832, -31.59653, -32.039608, -31.864943, -32.456676, -33.20365, -33.501263, -33.637108, -34.00089, -34.49173, -34.897243, -35.60857, -37.031387, -38.84752, -38.970398, -39.801884, -42.110844, -44.887142, -48.34272, -52.338825, -54.5935, -55.26956, -48.771236, -45.475616, -46.225468, -46.426723, -46.939034, -44.739998, -42.745537, -40.823933, -37.87938, -37.480846, -38.51911, -39.358578, -39.506084, -39.92851, -40.663425, -41.11452, -40.952694, -40.562237, -40.20431, -41.16925, -42.07095, -43.064137, -43.627422, -42.979515, -41.427296, -40.834106, -42.271984, -38.925453, ...]        \n",
              "3  [-76.82804, -76.82804, -76.82804, -76.82804, -76.82804, -76.82804, -76.65121, -76.677536, -76.82804, -76.82804, -76.82804, -76.82804, -76.82804, -76.82804, -76.82804, -76.80453, -76.5322, -76.44933, -76.64952, -76.82804, -76.82804, -76.82804, -76.82804, -76.82804, -76.82804, -76.82804, -76.82804, -76.82804, -76.82804, -76.82804, -76.82804, -76.82804, -76.82804, -76.82804, -76.82804, -76.82804, -76.82804, -76.568886, -74.67807, -73.09236, -74.03147, -74.68943, -64.24568, -47.49774, -41.946453, -39.79607, -39.147137, -40.741, -42.837166, -43.604366, -42.124516, -37.26098, -35.17254, -34.234646, -34.051994, -33.869507, -32.931118, -32.81923, -34.01837, -36.192253, -41.01848, -45.500793, -46.88576, -48.46097, -48.98278, -49.02873, -48.43186, -48.262344, -47.850143, -45.676563, -43.822456, -43.251183, -42.20799, -42.379887, -43.17235, -42.853916, -43.618324, -44.138092, -44.0167, -44.09061, -44.682087, -45.904766, -46.873642, -47.451687, -47.429253, -50.21714, -54.75737, -57.29435, -58.95968, -59.25489, -61.76557, -57.759243, -42.46049, -38.936752, -42.34256, -43.494522, -43.32022, -41.76798, -41.904247, -43.785294, ...]                \n",
              "4  [-75.26845, -75.26845, -75.26845, -75.26845, -75.26845, -75.26845, -75.26845, -75.26845, -75.26845, -75.26845, -75.26845, -75.26845, -75.26845, -75.26845, -75.243004, -75.26845, -75.26845, -75.26845, -75.26845, -75.26845, -75.26845, -75.24528, -75.04568, -74.99168, -75.19989, -75.26845, -75.26845, -75.26845, -75.26845, -75.26845, -75.26845, -75.26845, -75.26845, -75.26845, -75.26845, -74.34854, -73.92539, -73.56352, -73.27889, -72.94659, -72.36573, -72.77169, -62.66063, -41.765488, -35.625652, -32.697567, -31.232754, -29.582481, -29.005156, -28.940495, -28.66669, -28.22058, -27.420063, -26.695297, -26.731213, -27.104462, -28.481537, -30.688972, -32.87745, -36.790688, -41.635178, -41.879257, -40.09379, -39.499546, -39.355, -39.876854, -40.17552, -38.197384, -36.35471, -34.195213, -33.323788, -33.642143, -33.76531, -34.102013, -35.333183, -36.94313, -37.931232, -39.940765, -39.828728, -39.29128, -37.974392, -39.12242, -41.313232, -35.535824, -33.189327, -33.90681, -36.375805, -41.008472, -43.743633, -40.78038, -37.379166, -36.989563, -37.33643, -38.593864, -41.70642, -45.89121, -46.88004, -47.354614, -47.581882, -45.365158, ...]     "
            ]
          },
          "metadata": {},
          "execution_count": 59
        }
      ]
    },
    {
      "cell_type": "code",
      "metadata": {
        "id": "epGZ8mpecwJQ"
      },
      "source": [
        "# TURN ARRAY INTO LIST AND JOIN WITH AUDIO_DF TO GET CORRESPONDING EMOTION LABELS\n",
        "df_combined = pd.concat([audio_df,pd.DataFrame(df['mel_spectrogram'].values.tolist())],axis=1)\n",
        "df_combined = df_combined.fillna(0)"
      ],
      "execution_count": 60,
      "outputs": []
    },
    {
      "cell_type": "code",
      "metadata": {
        "id": "U18Qk8H_c183"
      },
      "source": [
        "# DROP PATH COLUMN FOR MODELING\n",
        "df_combined.drop(columns='path',inplace=True)"
      ],
      "execution_count": 61,
      "outputs": []
    },
    {
      "cell_type": "markdown",
      "metadata": {
        "id": "T91kU4yJc-3b"
      },
      "source": [
        "Prepping Data for Modeling"
      ]
    },
    {
      "cell_type": "code",
      "metadata": {
        "id": "O2tmcn1RdCui"
      },
      "source": [
        "# TRAIN TEST SPLIT DATA\n",
        "from sklearn.model_selection import train_test_split\n",
        "train,test = train_test_split(df_combined, test_size=0.2, random_state=0,\n",
        "                               stratify=df_combined[['emotion','gender','actor']])"
      ],
      "execution_count": 65,
      "outputs": []
    },
    {
      "cell_type": "code",
      "metadata": {
        "colab": {
          "base_uri": "https://localhost:8080/"
        },
        "id": "LW-zt5rFdFsK",
        "outputId": "9a38e36f-7ae5-4f4c-9f43-44ae9bad1dc3"
      },
      "source": [
        "X_train = train.iloc[:, 3:]\n",
        "y_train = train.iloc[:,:2].drop(columns=['gender'])\n",
        "print(X_train.shape)"
      ],
      "execution_count": 81,
      "outputs": [
        {
          "output_type": "stream",
          "name": "stdout",
          "text": [
            "(1152, 259)\n"
          ]
        }
      ]
    },
    {
      "cell_type": "code",
      "metadata": {
        "colab": {
          "base_uri": "https://localhost:8080/"
        },
        "id": "3pAmkkEmdHhu",
        "outputId": "7462a57d-3d4c-43c9-cc0b-3d90ab0f7c94"
      },
      "source": [
        "X_test = test.iloc[:,3:]\n",
        "y_test = test.iloc[:,:2].drop(columns=['gender'])\n",
        "print(X_test.shape)"
      ],
      "execution_count": 80,
      "outputs": [
        {
          "output_type": "stream",
          "name": "stdout",
          "text": [
            "(288, 259)\n"
          ]
        }
      ]
    },
    {
      "cell_type": "markdown",
      "metadata": {
        "id": "7tYjHyXqdMiP"
      },
      "source": [
        "<h2>Data Preprocessing</h2>"
      ]
    },
    {
      "cell_type": "code",
      "metadata": {
        "id": "p8TV-yJ-dJr2"
      },
      "source": [
        "# NORMALIZE DATA\n",
        "mean = np.mean(X_train, axis=0)\n",
        "std = np.std(X_train, axis=0)\n",
        "X_train = (X_train - mean)/std\n",
        "X_test = (X_test - mean)/std"
      ],
      "execution_count": 88,
      "outputs": []
    },
    {
      "cell_type": "code",
      "metadata": {
        "id": "R1021VW3dWEk"
      },
      "source": [
        "# TURN DATA INTO ARRAYS FOR KERAS\n",
        "X_train = np.array(X_train)\n",
        "y_train = np.array(y_train)\n",
        "X_test = np.array(X_test)\n",
        "y_test = np.array(y_test)"
      ],
      "execution_count": 89,
      "outputs": []
    },
    {
      "cell_type": "code",
      "metadata": {
        "colab": {
          "base_uri": "https://localhost:8080/"
        },
        "id": "bd8Sk82SdXl-",
        "outputId": "ade39ad6-7abc-478b-f3b0-8be47ec3eacd"
      },
      "source": [
        "# ONE HOT ENCODE THE TARGET\n",
        "# CNN REQUIRES INPUT AND OUTPUT ARE NUMBERS\n",
        "lb = LabelEncoder()\n",
        "y_train = to_categorical(lb.fit_transform(y_train))\n",
        "y_test = to_categorical(lb.fit_transform(y_test))\n",
        "\n",
        "print(y_test[0:10])"
      ],
      "execution_count": 90,
      "outputs": [
        {
          "output_type": "stream",
          "name": "stdout",
          "text": [
            "[[0. 0. 0. 1. 0. 0. 0. 0.]\n",
            " [0. 1. 0. 0. 0. 0. 0. 0.]\n",
            " [0. 0. 0. 0. 1. 0. 0. 0.]\n",
            " [1. 0. 0. 0. 0. 0. 0. 0.]\n",
            " [0. 0. 0. 1. 0. 0. 0. 0.]\n",
            " [1. 0. 0. 0. 0. 0. 0. 0.]\n",
            " [0. 0. 0. 0. 1. 0. 0. 0.]\n",
            " [0. 0. 0. 0. 0. 0. 1. 0.]\n",
            " [0. 0. 0. 0. 0. 1. 0. 0.]\n",
            " [1. 0. 0. 0. 0. 0. 0. 0.]]\n"
          ]
        },
        {
          "output_type": "stream",
          "name": "stderr",
          "text": [
            "/usr/local/lib/python3.7/dist-packages/sklearn/preprocessing/_label.py:115: DataConversionWarning: A column-vector y was passed when a 1d array was expected. Please change the shape of y to (n_samples, ), for example using ravel().\n",
            "  y = column_or_1d(y, warn=True)\n"
          ]
        }
      ]
    },
    {
      "cell_type": "code",
      "metadata": {
        "colab": {
          "base_uri": "https://localhost:8080/"
        },
        "id": "-AjrK9WgdZUH",
        "outputId": "9187be12-3284-48a9-f313-7a135e636c0f"
      },
      "source": [
        "print(lb.classes_)"
      ],
      "execution_count": 91,
      "outputs": [
        {
          "output_type": "stream",
          "name": "stdout",
          "text": [
            "['angry' 'calm' 'disgust' 'fear' 'happy' 'neutral' 'sad' 'surprise']\n"
          ]
        }
      ]
    },
    {
      "cell_type": "code",
      "metadata": {
        "colab": {
          "base_uri": "https://localhost:8080/"
        },
        "id": "llyR_2VynP_i",
        "outputId": "3b834417-e6a1-49c9-8f53-de43ece06341"
      },
      "source": [
        "X_train.shape"
      ],
      "execution_count": 79,
      "outputs": [
        {
          "output_type": "execute_result",
          "data": {
            "text/plain": [
              "(1152, 259, 1)"
            ]
          },
          "metadata": {},
          "execution_count": 79
        }
      ]
    },
    {
      "cell_type": "markdown",
      "metadata": {
        "id": "O2wt2J4zoKKc"
      },
      "source": [
        "Base Model"
      ]
    },
    {
      "cell_type": "code",
      "metadata": {
        "colab": {
          "base_uri": "https://localhost:8080/"
        },
        "id": "IHGZ37mfdejh",
        "outputId": "26ed9961-5956-4d35-ea3d-7833838b67cf"
      },
      "source": [
        "# used a dummy classifier to test predicted model results this is the baseline for other models which are expected to perform better\n",
        "import numpy as np\n",
        "from sklearn.dummy import DummyClassifier\n",
        "\n",
        "dummy_clf = DummyClassifier(strategy=\"stratified\")\n",
        "dummy_clf.fit(X_train, y_train)\n",
        "DummyClassifier(strategy='stratified')\n",
        "dummy_clf.predict(X_test)\n",
        "dummy_clf.score(X_test, y_test)"
      ],
      "execution_count": 78,
      "outputs": [
        {
          "output_type": "execute_result",
          "data": {
            "text/plain": [
              "0.03819444444444445"
            ]
          },
          "metadata": {},
          "execution_count": 78
        }
      ]
    },
    {
      "cell_type": "code",
      "metadata": {
        "colab": {
          "base_uri": "https://localhost:8080/"
        },
        "id": "E3OSn2N7draM",
        "outputId": "45b583ef-b830-4b82-d63e-ff50109cede5"
      },
      "source": [
        "# training and scoring using a decision tree\n",
        "from sklearn import tree\n",
        "\n",
        "clf = tree.DecisionTreeClassifier()\n",
        "clf = clf.fit(X_train, y_train)\n",
        "clf.predict(X_test)\n",
        "clf.score(X_test, y_test)"
      ],
      "execution_count": 82,
      "outputs": [
        {
          "output_type": "execute_result",
          "data": {
            "text/plain": [
              "0.2916666666666667"
            ]
          },
          "metadata": {},
          "execution_count": 82
        }
      ]
    },
    {
      "cell_type": "code",
      "metadata": {
        "colab": {
          "base_uri": "https://localhost:8080/"
        },
        "id": "b8uk6-MWdbEK",
        "outputId": "9e5c141d-c1a0-46e7-9b24-2f9c12b83d74"
      },
      "source": [
        "# RESHAPE DATA TO INCLUDE 3D TENSOR \n",
        "X_train = X_train[:,:,np.newaxis]\n",
        "X_test = X_test[:,:,np.newaxis]\n",
        "\n",
        "X_train.shape"
      ],
      "execution_count": 92,
      "outputs": [
        {
          "output_type": "execute_result",
          "data": {
            "text/plain": [
              "(1152, 259, 1)"
            ]
          },
          "metadata": {},
          "execution_count": 92
        }
      ]
    },
    {
      "cell_type": "markdown",
      "metadata": {
        "id": "urCKibtleANF"
      },
      "source": [
        "<h2>Before Tuning</h2>"
      ]
    },
    {
      "cell_type": "code",
      "metadata": {
        "colab": {
          "base_uri": "https://localhost:8080/"
        },
        "id": "u3p1cCIFd6Pp",
        "outputId": "86348cac-9b1d-4105-9694-ebc50b0ea951"
      },
      "source": [
        "import tensorflow as tf\n",
        "from tensorflow import keras\n",
        "from tensorflow.keras import layers\n",
        "from tensorflow.keras.models import Sequential, load_model\n",
        "\n",
        "#BUILD 1D CNN LAYERS\n",
        "model = tf.keras.Sequential()\n",
        "model.add(layers.Conv1D(64, kernel_size=(10), activation='relu', input_shape=(X_train.shape[1],1)))\n",
        "model.add(layers.Conv1D(128, kernel_size=(10),activation='relu',kernel_regularizer=l2(0.01), bias_regularizer=l2(0.01)))\n",
        "model.add(layers.MaxPooling1D(pool_size=(8)))\n",
        "model.add(layers.Dropout(0.4))\n",
        "model.add(layers.Conv1D(128, kernel_size=(10),activation='relu'))\n",
        "model.add(layers.MaxPooling1D(pool_size=(8)))\n",
        "model.add(layers.Dropout(0.4))\n",
        "model.add(layers.Flatten())\n",
        "model.add(layers.Dense(256, activation='relu'))\n",
        "model.add(layers.Dropout(0.4))\n",
        "model.add(layers.Dense(8, activation='sigmoid'))\n",
        "opt = keras.optimizers.Adam(learning_rate = 0.001)\n",
        "model.compile(loss='categorical_crossentropy', optimizer=opt,metrics=['accuracy'])\n",
        "model.summary()"
      ],
      "execution_count": 116,
      "outputs": [
        {
          "output_type": "stream",
          "name": "stdout",
          "text": [
            "Model: \"sequential_95\"\n",
            "_________________________________________________________________\n",
            " Layer (type)                Output Shape              Param #   \n",
            "=================================================================\n",
            " conv1d_285 (Conv1D)         (None, 250, 64)           704       \n",
            "                                                                 \n",
            " conv1d_286 (Conv1D)         (None, 241, 128)          82048     \n",
            "                                                                 \n",
            " max_pooling1d_190 (MaxPooli  (None, 30, 128)          0         \n",
            " ng1D)                                                           \n",
            "                                                                 \n",
            " dropout_285 (Dropout)       (None, 30, 128)           0         \n",
            "                                                                 \n",
            " conv1d_287 (Conv1D)         (None, 21, 128)           163968    \n",
            "                                                                 \n",
            " max_pooling1d_191 (MaxPooli  (None, 2, 128)           0         \n",
            " ng1D)                                                           \n",
            "                                                                 \n",
            " dropout_286 (Dropout)       (None, 2, 128)            0         \n",
            "                                                                 \n",
            " flatten_95 (Flatten)        (None, 256)               0         \n",
            "                                                                 \n",
            " dense_190 (Dense)           (None, 256)               65792     \n",
            "                                                                 \n",
            " dropout_287 (Dropout)       (None, 256)               0         \n",
            "                                                                 \n",
            " dense_191 (Dense)           (None, 8)                 2056      \n",
            "                                                                 \n",
            "=================================================================\n",
            "Total params: 314,568\n",
            "Trainable params: 314,568\n",
            "Non-trainable params: 0\n",
            "_________________________________________________________________\n"
          ]
        }
      ]
    },
    {
      "cell_type": "code",
      "metadata": {
        "id": "PuBNN3bB9GLd"
      },
      "source": [
        "tf.config.experimental_run_functions_eagerly(True)"
      ],
      "execution_count": 117,
      "outputs": []
    },
    {
      "cell_type": "code",
      "metadata": {
        "colab": {
          "base_uri": "https://localhost:8080/"
        },
        "id": "4iySiu6roiwT",
        "outputId": "2a4d2419-c3e3-421c-9c5b-14623b096397"
      },
      "source": [
        "import tensorflow.keras as keras\n",
        "\n",
        "# FIT MODEL AND USE CHECKPOINT TO SAVE BEST MODEL\n",
        "checkpoint = ModelCheckpoint(\"best_initial_model.hdf5\", monitor='val_accuracy', verbose=1,\n",
        "    save_best_only=True, mode='max', period=1, save_weights_only=True)\n",
        "\n",
        "model_history=model.fit(X_train, y_train,batch_size=32, epochs=40, validation_data=(X_test, y_test),callbacks=[checkpoint])"
      ],
      "execution_count": 118,
      "outputs": [
        {
          "output_type": "stream",
          "name": "stdout",
          "text": [
            "WARNING:tensorflow:`period` argument is deprecated. Please use `save_freq` to specify the frequency in number of batches seen.\n",
            "Epoch 1/40\n"
          ]
        },
        {
          "output_type": "stream",
          "name": "stderr",
          "text": [
            "/usr/local/lib/python3.7/dist-packages/tensorflow/python/data/ops/dataset_ops.py:4527: UserWarning: Even though the `tf.config.experimental_run_functions_eagerly` option is set, this option does not apply to tf.data functions. To force eager execution of tf.data functions, please use `tf.data.experimental.enable_debug_mode()`.\n",
            "  \"Even though the `tf.config.experimental_run_functions_eagerly` \"\n"
          ]
        },
        {
          "output_type": "stream",
          "name": "stdout",
          "text": [
            "36/36 [==============================] - ETA: 0s - loss: 2.5038 - accuracy: 0.2161\n",
            "Epoch 00001: val_accuracy improved from -inf to 0.28125, saving model to best_initial_model.hdf5\n",
            "36/36 [==============================] - 7s 184ms/step - loss: 2.5038 - accuracy: 0.2161 - val_loss: 2.1497 - val_accuracy: 0.2812\n",
            "Epoch 2/40\n",
            "36/36 [==============================] - ETA: 0s - loss: 2.0447 - accuracy: 0.2682\n",
            "Epoch 00002: val_accuracy did not improve from 0.28125\n",
            "36/36 [==============================] - 6s 176ms/step - loss: 2.0447 - accuracy: 0.2682 - val_loss: 1.9427 - val_accuracy: 0.2153\n",
            "Epoch 3/40\n",
            "36/36 [==============================] - ETA: 0s - loss: 1.8936 - accuracy: 0.2847\n",
            "Epoch 00003: val_accuracy improved from 0.28125 to 0.32639, saving model to best_initial_model.hdf5\n",
            "36/36 [==============================] - 7s 182ms/step - loss: 1.8936 - accuracy: 0.2847 - val_loss: 1.8396 - val_accuracy: 0.3264\n",
            "Epoch 4/40\n",
            "36/36 [==============================] - ETA: 0s - loss: 1.8029 - accuracy: 0.3255\n",
            "Epoch 00004: val_accuracy improved from 0.32639 to 0.35764, saving model to best_initial_model.hdf5\n",
            "36/36 [==============================] - 7s 184ms/step - loss: 1.8029 - accuracy: 0.3255 - val_loss: 1.7171 - val_accuracy: 0.3576\n",
            "Epoch 5/40\n",
            "36/36 [==============================] - ETA: 0s - loss: 1.7201 - accuracy: 0.3594\n",
            "Epoch 00005: val_accuracy improved from 0.35764 to 0.38542, saving model to best_initial_model.hdf5\n",
            "36/36 [==============================] - 6s 181ms/step - loss: 1.7201 - accuracy: 0.3594 - val_loss: 1.6795 - val_accuracy: 0.3854\n",
            "Epoch 6/40\n",
            "36/36 [==============================] - ETA: 0s - loss: 1.7020 - accuracy: 0.3550\n",
            "Epoch 00006: val_accuracy did not improve from 0.38542\n",
            "36/36 [==============================] - 6s 177ms/step - loss: 1.7020 - accuracy: 0.3550 - val_loss: 1.7061 - val_accuracy: 0.3681\n",
            "Epoch 7/40\n",
            "36/36 [==============================] - ETA: 0s - loss: 1.7095 - accuracy: 0.3481\n",
            "Epoch 00007: val_accuracy did not improve from 0.38542\n",
            "36/36 [==============================] - 7s 183ms/step - loss: 1.7095 - accuracy: 0.3481 - val_loss: 1.6655 - val_accuracy: 0.3750\n",
            "Epoch 8/40\n",
            "36/36 [==============================] - ETA: 0s - loss: 1.6851 - accuracy: 0.3524\n",
            "Epoch 00008: val_accuracy improved from 0.38542 to 0.39931, saving model to best_initial_model.hdf5\n",
            "36/36 [==============================] - 6s 180ms/step - loss: 1.6851 - accuracy: 0.3524 - val_loss: 1.6720 - val_accuracy: 0.3993\n",
            "Epoch 9/40\n",
            "36/36 [==============================] - ETA: 0s - loss: 1.6367 - accuracy: 0.3898\n",
            "Epoch 00009: val_accuracy did not improve from 0.39931\n",
            "36/36 [==============================] - 6s 172ms/step - loss: 1.6367 - accuracy: 0.3898 - val_loss: 1.6534 - val_accuracy: 0.3785\n",
            "Epoch 10/40\n",
            "36/36 [==============================] - ETA: 0s - loss: 1.6044 - accuracy: 0.4010\n",
            "Epoch 00010: val_accuracy did not improve from 0.39931\n",
            "36/36 [==============================] - 6s 181ms/step - loss: 1.6044 - accuracy: 0.4010 - val_loss: 1.6133 - val_accuracy: 0.3715\n",
            "Epoch 11/40\n",
            "36/36 [==============================] - ETA: 0s - loss: 1.5950 - accuracy: 0.3932\n",
            "Epoch 00011: val_accuracy did not improve from 0.39931\n",
            "36/36 [==============================] - 6s 176ms/step - loss: 1.5950 - accuracy: 0.3932 - val_loss: 1.6024 - val_accuracy: 0.3889\n",
            "Epoch 12/40\n",
            "36/36 [==============================] - ETA: 0s - loss: 1.5850 - accuracy: 0.4097\n",
            "Epoch 00012: val_accuracy did not improve from 0.39931\n",
            "36/36 [==============================] - 6s 181ms/step - loss: 1.5850 - accuracy: 0.4097 - val_loss: 1.6144 - val_accuracy: 0.3889\n",
            "Epoch 13/40\n",
            "36/36 [==============================] - ETA: 0s - loss: 1.5822 - accuracy: 0.4019\n",
            "Epoch 00013: val_accuracy did not improve from 0.39931\n",
            "36/36 [==============================] - 6s 180ms/step - loss: 1.5822 - accuracy: 0.4019 - val_loss: 1.6071 - val_accuracy: 0.3958\n",
            "Epoch 14/40\n",
            "36/36 [==============================] - ETA: 0s - loss: 1.5480 - accuracy: 0.4175\n",
            "Epoch 00014: val_accuracy improved from 0.39931 to 0.42361, saving model to best_initial_model.hdf5\n",
            "36/36 [==============================] - 6s 179ms/step - loss: 1.5480 - accuracy: 0.4175 - val_loss: 1.5420 - val_accuracy: 0.4236\n",
            "Epoch 15/40\n",
            "36/36 [==============================] - ETA: 0s - loss: 1.5497 - accuracy: 0.4106\n",
            "Epoch 00015: val_accuracy did not improve from 0.42361\n",
            "36/36 [==============================] - 7s 182ms/step - loss: 1.5497 - accuracy: 0.4106 - val_loss: 1.5774 - val_accuracy: 0.3646\n",
            "Epoch 16/40\n",
            "36/36 [==============================] - ETA: 0s - loss: 1.5280 - accuracy: 0.4366\n",
            "Epoch 00016: val_accuracy did not improve from 0.42361\n",
            "36/36 [==============================] - 6s 181ms/step - loss: 1.5280 - accuracy: 0.4366 - val_loss: 1.5627 - val_accuracy: 0.3924\n",
            "Epoch 17/40\n",
            "36/36 [==============================] - ETA: 0s - loss: 1.5053 - accuracy: 0.4271\n",
            "Epoch 00017: val_accuracy improved from 0.42361 to 0.46875, saving model to best_initial_model.hdf5\n",
            "36/36 [==============================] - 7s 183ms/step - loss: 1.5053 - accuracy: 0.4271 - val_loss: 1.4891 - val_accuracy: 0.4688\n",
            "Epoch 18/40\n",
            "36/36 [==============================] - ETA: 0s - loss: 1.4799 - accuracy: 0.4444\n",
            "Epoch 00018: val_accuracy did not improve from 0.46875\n",
            "36/36 [==============================] - 6s 175ms/step - loss: 1.4799 - accuracy: 0.4444 - val_loss: 1.5006 - val_accuracy: 0.4583\n",
            "Epoch 19/40\n",
            "36/36 [==============================] - ETA: 0s - loss: 1.4603 - accuracy: 0.4635\n",
            "Epoch 00019: val_accuracy did not improve from 0.46875\n",
            "36/36 [==============================] - 6s 180ms/step - loss: 1.4603 - accuracy: 0.4635 - val_loss: 1.4979 - val_accuracy: 0.4340\n",
            "Epoch 20/40\n",
            "36/36 [==============================] - ETA: 0s - loss: 1.4292 - accuracy: 0.4653\n",
            "Epoch 00020: val_accuracy did not improve from 0.46875\n",
            "36/36 [==============================] - 6s 174ms/step - loss: 1.4292 - accuracy: 0.4653 - val_loss: 1.4757 - val_accuracy: 0.4549\n",
            "Epoch 21/40\n",
            "36/36 [==============================] - ETA: 0s - loss: 1.4199 - accuracy: 0.4792\n",
            "Epoch 00021: val_accuracy did not improve from 0.46875\n",
            "36/36 [==============================] - 6s 172ms/step - loss: 1.4199 - accuracy: 0.4792 - val_loss: 1.4959 - val_accuracy: 0.4271\n",
            "Epoch 22/40\n",
            "36/36 [==============================] - ETA: 0s - loss: 1.4182 - accuracy: 0.4809\n",
            "Epoch 00022: val_accuracy did not improve from 0.46875\n",
            "36/36 [==============================] - 6s 181ms/step - loss: 1.4182 - accuracy: 0.4809 - val_loss: 1.4508 - val_accuracy: 0.4375\n",
            "Epoch 23/40\n",
            "36/36 [==============================] - ETA: 0s - loss: 1.4051 - accuracy: 0.4844\n",
            "Epoch 00023: val_accuracy improved from 0.46875 to 0.48264, saving model to best_initial_model.hdf5\n",
            "36/36 [==============================] - 6s 178ms/step - loss: 1.4051 - accuracy: 0.4844 - val_loss: 1.4467 - val_accuracy: 0.4826\n",
            "Epoch 24/40\n",
            "36/36 [==============================] - ETA: 0s - loss: 1.4006 - accuracy: 0.4878\n",
            "Epoch 00024: val_accuracy did not improve from 0.48264\n",
            "36/36 [==============================] - 6s 179ms/step - loss: 1.4006 - accuracy: 0.4878 - val_loss: 1.5456 - val_accuracy: 0.4167\n",
            "Epoch 25/40\n",
            "36/36 [==============================] - ETA: 0s - loss: 1.3990 - accuracy: 0.4670\n",
            "Epoch 00025: val_accuracy did not improve from 0.48264\n",
            "36/36 [==============================] - 6s 180ms/step - loss: 1.3990 - accuracy: 0.4670 - val_loss: 1.4203 - val_accuracy: 0.4792\n",
            "Epoch 26/40\n",
            "36/36 [==============================] - ETA: 0s - loss: 1.3392 - accuracy: 0.5156\n",
            "Epoch 00026: val_accuracy improved from 0.48264 to 0.50694, saving model to best_initial_model.hdf5\n",
            "36/36 [==============================] - 7s 183ms/step - loss: 1.3392 - accuracy: 0.5156 - val_loss: 1.4085 - val_accuracy: 0.5069\n",
            "Epoch 27/40\n",
            "36/36 [==============================] - ETA: 0s - loss: 1.3372 - accuracy: 0.5026\n",
            "Epoch 00027: val_accuracy did not improve from 0.50694\n",
            "36/36 [==============================] - 6s 176ms/step - loss: 1.3372 - accuracy: 0.5026 - val_loss: 1.4098 - val_accuracy: 0.4757\n",
            "Epoch 28/40\n",
            "36/36 [==============================] - ETA: 0s - loss: 1.2961 - accuracy: 0.5156\n",
            "Epoch 00028: val_accuracy did not improve from 0.50694\n",
            "36/36 [==============================] - 6s 179ms/step - loss: 1.2961 - accuracy: 0.5156 - val_loss: 1.4301 - val_accuracy: 0.4757\n",
            "Epoch 29/40\n",
            "36/36 [==============================] - ETA: 0s - loss: 1.3205 - accuracy: 0.5095\n",
            "Epoch 00029: val_accuracy did not improve from 0.50694\n",
            "36/36 [==============================] - 6s 179ms/step - loss: 1.3205 - accuracy: 0.5095 - val_loss: 1.3963 - val_accuracy: 0.5000\n",
            "Epoch 30/40\n",
            "36/36 [==============================] - ETA: 0s - loss: 1.3041 - accuracy: 0.5278\n",
            "Epoch 00030: val_accuracy did not improve from 0.50694\n",
            "36/36 [==============================] - 7s 182ms/step - loss: 1.3041 - accuracy: 0.5278 - val_loss: 1.4030 - val_accuracy: 0.4444\n",
            "Epoch 31/40\n",
            "36/36 [==============================] - ETA: 0s - loss: 1.2892 - accuracy: 0.5260\n",
            "Epoch 00031: val_accuracy did not improve from 0.50694\n",
            "36/36 [==============================] - 6s 180ms/step - loss: 1.2892 - accuracy: 0.5260 - val_loss: 1.4198 - val_accuracy: 0.4410\n",
            "Epoch 32/40\n",
            "36/36 [==============================] - ETA: 0s - loss: 1.2614 - accuracy: 0.5451\n",
            "Epoch 00032: val_accuracy did not improve from 0.50694\n",
            "36/36 [==============================] - 6s 174ms/step - loss: 1.2614 - accuracy: 0.5451 - val_loss: 1.3646 - val_accuracy: 0.5069\n",
            "Epoch 33/40\n",
            "36/36 [==============================] - ETA: 0s - loss: 1.2038 - accuracy: 0.5573\n",
            "Epoch 00033: val_accuracy did not improve from 0.50694\n",
            "36/36 [==============================] - 6s 180ms/step - loss: 1.2038 - accuracy: 0.5573 - val_loss: 1.4106 - val_accuracy: 0.4653\n",
            "Epoch 34/40\n",
            "36/36 [==============================] - ETA: 0s - loss: 1.2427 - accuracy: 0.5573\n",
            "Epoch 00034: val_accuracy did not improve from 0.50694\n",
            "36/36 [==============================] - 6s 180ms/step - loss: 1.2427 - accuracy: 0.5573 - val_loss: 1.3834 - val_accuracy: 0.4688\n",
            "Epoch 35/40\n",
            "36/36 [==============================] - ETA: 0s - loss: 1.2090 - accuracy: 0.5556\n",
            "Epoch 00035: val_accuracy did not improve from 0.50694\n",
            "36/36 [==============================] - 6s 175ms/step - loss: 1.2090 - accuracy: 0.5556 - val_loss: 1.3453 - val_accuracy: 0.4826\n",
            "Epoch 36/40\n",
            "36/36 [==============================] - ETA: 0s - loss: 1.2464 - accuracy: 0.5599\n",
            "Epoch 00036: val_accuracy did not improve from 0.50694\n",
            "36/36 [==============================] - 6s 174ms/step - loss: 1.2464 - accuracy: 0.5599 - val_loss: 1.3966 - val_accuracy: 0.4896\n",
            "Epoch 37/40\n",
            "36/36 [==============================] - ETA: 0s - loss: 1.1660 - accuracy: 0.5833\n",
            "Epoch 00037: val_accuracy improved from 0.50694 to 0.52083, saving model to best_initial_model.hdf5\n",
            "36/36 [==============================] - 7s 183ms/step - loss: 1.1660 - accuracy: 0.5833 - val_loss: 1.3653 - val_accuracy: 0.5208\n",
            "Epoch 38/40\n",
            "36/36 [==============================] - ETA: 0s - loss: 1.1608 - accuracy: 0.5885\n",
            "Epoch 00038: val_accuracy did not improve from 0.52083\n",
            "36/36 [==============================] - 7s 182ms/step - loss: 1.1608 - accuracy: 0.5885 - val_loss: 1.3842 - val_accuracy: 0.4896\n",
            "Epoch 39/40\n",
            "36/36 [==============================] - ETA: 0s - loss: 1.1609 - accuracy: 0.5807\n",
            "Epoch 00039: val_accuracy did not improve from 0.52083\n",
            "36/36 [==============================] - 7s 183ms/step - loss: 1.1609 - accuracy: 0.5807 - val_loss: 1.3611 - val_accuracy: 0.5000\n",
            "Epoch 40/40\n",
            "36/36 [==============================] - ETA: 0s - loss: 1.1321 - accuracy: 0.5911\n",
            "Epoch 00040: val_accuracy did not improve from 0.52083\n",
            "36/36 [==============================] - 7s 182ms/step - loss: 1.1321 - accuracy: 0.5911 - val_loss: 1.3704 - val_accuracy: 0.5174\n"
          ]
        }
      ]
    },
    {
      "cell_type": "code",
      "metadata": {
        "id": "S9ooyAGneEdl"
      },
      "source": [
        "# the model at this point achieved an accuracy of 52% before hyper parameter tuning"
      ],
      "execution_count": 97,
      "outputs": []
    },
    {
      "cell_type": "code",
      "metadata": {
        "colab": {
          "base_uri": "https://localhost:8080/",
          "height": 573
        },
        "id": "LiPsEl1m-chT",
        "outputId": "d0d935af-541e-41bf-b390-9d2d3c54263a"
      },
      "source": [
        "# PLOT MODEL HISTORY OF ACCURACY AND LOSS OVER EPOCHS\n",
        "plt.plot(model_history.history['accuracy'])\n",
        "plt.plot(model_history.history['val_accuracy'])\n",
        "plt.title('Model Accuracy')\n",
        "plt.ylabel('Accuracy')\n",
        "plt.xlabel('Epoch')\n",
        "plt.legend(['Train', 'Test'], loc='upper left')\n",
        "plt.savefig('Initial_Model_Accuracy.png')\n",
        "plt.show()\n",
        "# summarize history for loss\n",
        "plt.plot(model_history.history['loss'])\n",
        "plt.plot(model_history.history['val_loss'])\n",
        "plt.title('Model Loss')\n",
        "plt.ylabel('Loss')\n",
        "plt.xlabel('Epoch')\n",
        "plt.legend(['train', 'test'], loc='upper left')\n",
        "plt.savefig('Initial_Model_loss.png')\n",
        "plt.show()"
      ],
      "execution_count": 119,
      "outputs": [
        {
          "output_type": "display_data",
          "data": {
            "image/png": "[encoded data removed]",
            "text/plain": [
              "<Figure size 432x288 with 1 Axes>"
            ]
          },
          "metadata": {
            "needs_background": "light"
          }
        },
        {
          "output_type": "display_data",
          "data": {
            "image/png": "[encoded data removed]",
            "text/plain": [
              "<Figure size 432x288 with 1 Axes>"
            ]
          },
          "metadata": {
            "needs_background": "light"
          }
        }
      ]
    },
    {
      "cell_type": "code",
      "metadata": {
        "colab": {
          "base_uri": "https://localhost:8080/"
        },
        "id": "5gYm2a_s-hsg",
        "outputId": "5e01000e-9681-4f4f-ec7d-6e0efe66fd63"
      },
      "source": [
        "# PRINT LOSS AND ACCURACY PERCENTAGE ON TEST SET\n",
        "print(\"Loss of the model is - \" , model.evaluate(X_test,y_test)[0])\n",
        "print(\"Accuracy of the model is - \" , model.evaluate(X_test,y_test)[1]*100 , \"%\")"
      ],
      "execution_count": 120,
      "outputs": [
        {
          "output_type": "stream",
          "name": "stdout",
          "text": [
            "3/9 [=========>....................] - ETA: 0s - loss: 1.4450 - accuracy: 0.4688"
          ]
        },
        {
          "output_type": "stream",
          "name": "stderr",
          "text": [
            "/usr/local/lib/python3.7/dist-packages/tensorflow/python/data/ops/dataset_ops.py:4527: UserWarning: Even though the `tf.config.experimental_run_functions_eagerly` option is set, this option does not apply to tf.data functions. To force eager execution of tf.data functions, please use `tf.data.experimental.enable_debug_mode()`.\n",
            "  \"Even though the `tf.config.experimental_run_functions_eagerly` \"\n"
          ]
        },
        {
          "output_type": "stream",
          "name": "stdout",
          "text": [
            "9/9 [==============================] - 0s 45ms/step - loss: 1.3704 - accuracy: 0.5174\n",
            "Loss of the model is -  1.3703933954238892\n",
            "9/9 [==============================] - 0s 48ms/step - loss: 1.3704 - accuracy: 0.5174\n",
            "Accuracy of the model is -  51.73611044883728 %\n"
          ]
        }
      ]
    },
    {
      "cell_type": "code",
      "metadata": {
        "colab": {
          "base_uri": "https://localhost:8080/",
          "height": 413
        },
        "id": "hDf-W_ar_Wc1",
        "outputId": "bd78de87-6156-4564-a4ca-133c5291c995"
      },
      "source": [
        "# PREDICTIONS\n",
        "predictions = model.predict(X_test)\n",
        "predictions=predictions.argmax(axis=1)\n",
        "predictions = predictions.astype(int).flatten()\n",
        "predictions = (lb.inverse_transform((predictions)))\n",
        "predictions = pd.DataFrame({'Predicted Values': predictions})\n",
        "\n",
        "# ACTUAL LABELS\n",
        "actual=y_test.argmax(axis=1)\n",
        "actual = actual.astype(int).flatten()\n",
        "actual = (lb.inverse_transform((actual)))\n",
        "actual = pd.DataFrame({'Actual Values': actual})\n",
        "\n",
        "# COMBINE BOTH \n",
        "finaldf = actual.join(predictions)\n",
        "finaldf[140:150]"
      ],
      "execution_count": 121,
      "outputs": [
        {
          "output_type": "stream",
          "name": "stderr",
          "text": [
            "/usr/local/lib/python3.7/dist-packages/tensorflow/python/data/ops/dataset_ops.py:4527: UserWarning: Even though the `tf.config.experimental_run_functions_eagerly` option is set, this option does not apply to tf.data functions. To force eager execution of tf.data functions, please use `tf.data.experimental.enable_debug_mode()`.\n",
            "  \"Even though the `tf.config.experimental_run_functions_eagerly` \"\n"
          ]
        },
        {
          "output_type": "execute_result",
          "data": {
            "text/html": [
              "<div>\n",
              "<style scoped>\n",
              "    .dataframe tbody tr th:only-of-type {\n",
              "        vertical-align: middle;\n",
              "    }\n",
              "\n",
              "    .dataframe tbody tr th {\n",
              "        vertical-align: top;\n",
              "    }\n",
              "\n",
              "    .dataframe thead th {\n",
              "        text-align: right;\n",
              "    }\n",
              "</style>\n",
              "<table border=\"1\" class=\"dataframe\">\n",
              "  <thead>\n",
              "    <tr style=\"text-align: right;\">\n",
              "      <th></th>\n",
              "      <th>Actual Values</th>\n",
              "      <th>Predicted Values</th>\n",
              "    </tr>\n",
              "  </thead>\n",
              "  <tbody>\n",
              "    <tr>\n",
              "      <th>140</th>\n",
              "      <td>happy</td>\n",
              "      <td>happy</td>\n",
              "    </tr>\n",
              "    <tr>\n",
              "      <th>141</th>\n",
              "      <td>sad</td>\n",
              "      <td>sad</td>\n",
              "    </tr>\n",
              "    <tr>\n",
              "      <th>142</th>\n",
              "      <td>fear</td>\n",
              "      <td>fear</td>\n",
              "    </tr>\n",
              "    <tr>\n",
              "      <th>143</th>\n",
              "      <td>calm</td>\n",
              "      <td>calm</td>\n",
              "    </tr>\n",
              "    <tr>\n",
              "      <th>144</th>\n",
              "      <td>angry</td>\n",
              "      <td>angry</td>\n",
              "    </tr>\n",
              "    <tr>\n",
              "      <th>145</th>\n",
              "      <td>angry</td>\n",
              "      <td>angry</td>\n",
              "    </tr>\n",
              "    <tr>\n",
              "      <th>146</th>\n",
              "      <td>happy</td>\n",
              "      <td>angry</td>\n",
              "    </tr>\n",
              "    <tr>\n",
              "      <th>147</th>\n",
              "      <td>calm</td>\n",
              "      <td>sad</td>\n",
              "    </tr>\n",
              "    <tr>\n",
              "      <th>148</th>\n",
              "      <td>disgust</td>\n",
              "      <td>surprise</td>\n",
              "    </tr>\n",
              "    <tr>\n",
              "      <th>149</th>\n",
              "      <td>neutral</td>\n",
              "      <td>neutral</td>\n",
              "    </tr>\n",
              "  </tbody>\n",
              "</table>\n",
              "</div>"
            ],
            "text/plain": [
              "    Actual Values Predicted Values\n",
              "140  happy         happy          \n",
              "141  sad           sad            \n",
              "142  fear          fear           \n",
              "143  calm          calm           \n",
              "144  angry         angry          \n",
              "145  angry         angry          \n",
              "146  happy         angry          \n",
              "147  calm          sad            \n",
              "148  disgust       surprise       \n",
              "149  neutral       neutral        "
            ]
          },
          "metadata": {},
          "execution_count": 121
        }
      ]
    },
    {
      "cell_type": "code",
      "metadata": {
        "id": "CaP72C7Q_dzX"
      },
      "source": [
        "# the initial model so far is not very innacurate at 50%\n",
        "# The model after hyperparameter tuning achieves an accuracy of 52%"
      ],
      "execution_count": null,
      "outputs": []
    },
    {
      "cell_type": "code",
      "metadata": {
        "colab": {
          "base_uri": "https://localhost:8080/"
        },
        "id": "wvMZiGdPDYe2",
        "outputId": "099c74d6-1224-4afe-ac70-6d2df6549849"
      },
      "source": [
        "print(classification_report(actual, predictions, target_names = ['angry','calm','disgust','fear','happy','neutral','sad','surprise']))\n"
      ],
      "execution_count": 122,
      "outputs": [
        {
          "output_type": "stream",
          "name": "stdout",
          "text": [
            "              precision    recall  f1-score   support\n",
            "\n",
            "       angry       0.43      0.67      0.52        33\n",
            "        calm       0.64      0.80      0.71        45\n",
            "     disgust       0.69      0.62      0.66        32\n",
            "        fear       0.64      0.40      0.49        52\n",
            "       happy       0.39      0.37      0.38        41\n",
            "     neutral       0.48      0.46      0.47        24\n",
            "         sad       0.36      0.31      0.33        26\n",
            "    surprise       0.44      0.46      0.45        35\n",
            "\n",
            "    accuracy                           0.52       288\n",
            "   macro avg       0.51      0.51      0.50       288\n",
            "weighted avg       0.52      0.52      0.51       288\n",
            "\n"
          ]
        }
      ]
    },
    {
      "cell_type": "markdown",
      "metadata": {
        "id": "p1WXntr_Di1o"
      },
      "source": [
        "from the above with the initial model we get that it could easily get the angry (60% accuracy) emotion que but was very bad at Happy(30% accuracy).\n",
        "with the model after hyperparameter tuning we get fear has the highest accuracy with(64% accuracuy) and Sadness has the worst accuracy with (36% accuracy).</br>\n",
        "\n",
        "The happiness accuracy sore imporves by 9% while that of sadness went down by 4%. w"
      ]
    },
    {
      "cell_type": "markdown",
      "metadata": {
        "id": "DH9yYsreDxem"
      },
      "source": [
        "<h3>Hyperparameter tuning</h3>"
      ]
    },
    {
      "cell_type": "code",
      "metadata": {
        "colab": {
          "base_uri": "https://localhost:8080/"
        },
        "id": "oQkJQAvcDgLw",
        "outputId": "a70f4653-7199-4688-9acd-1760326d1ca9"
      },
      "source": [
        "# TRAIN TEST SPLIT DATA\n",
        "train,test = train_test_split(df_combined, test_size=0.2, random_state=0,\n",
        "                               stratify=df_combined[['gender','actor']])\n",
        "\n",
        "X_train = train.iloc[:, 3:]\n",
        "y_train = train.iloc[:,:2].drop(columns=['gender'])\n",
        "print(X_train.shape)\n",
        "\n",
        "X_test = test.iloc[:,3:]\n",
        "y_test = test.iloc[:,:2].drop(columns=['gender'])\n",
        "print(X_test.shape)"
      ],
      "execution_count": 102,
      "outputs": [
        {
          "output_type": "stream",
          "name": "stdout",
          "text": [
            "(1152, 259)\n",
            "(288, 259)\n"
          ]
        }
      ]
    },
    {
      "cell_type": "code",
      "metadata": {
        "id": "gzeeaAzkDeiB"
      },
      "source": [
        "# NORMALIZE DATA\n",
        "mean = np.mean(X_train, axis=0)\n",
        "std = np.std(X_train, axis=0)\n",
        "X_train = (X_train - mean)/std\n",
        "X_test = (X_test - mean)/std"
      ],
      "execution_count": 103,
      "outputs": []
    },
    {
      "cell_type": "code",
      "metadata": {
        "id": "xwopd9xjD65W"
      },
      "source": [
        "# TURN DATA INTO ARRAYS FOR KERAS\n",
        "X_train = np.array(X_train)\n",
        "y_train = np.array(y_train)\n",
        "X_test = np.array(X_test)\n",
        "y_test = np.array(y_test)"
      ],
      "execution_count": 104,
      "outputs": []
    },
    {
      "cell_type": "code",
      "metadata": {
        "id": "ZmADIJmtD89x"
      },
      "source": [
        "# RESHAPE TO INCLUDE 3D TENSOR\n",
        "X_train = X_train[:,:,np.newaxis]\n",
        "X_test = X_test[:,:,np.newaxis]"
      ],
      "execution_count": 105,
      "outputs": []
    },
    {
      "cell_type": "code",
      "metadata": {
        "colab": {
          "base_uri": "https://localhost:8080/"
        },
        "id": "-wKeENGkD-jG",
        "outputId": "e161bbf7-0b33-4d99-a7d7-ae65baca5747"
      },
      "source": [
        "from tensorflow.keras.utils import to_categorical\n",
        "from keras.utils import np_utils\n",
        "\n",
        "lb = LabelEncoder()\n",
        "\n",
        "y_train = np_utils.to_categorical(lb.fit_transform(y_train))\n",
        "y_test = np_utils.to_categorical(lb.fit_transform(y_test))"
      ],
      "execution_count": 110,
      "outputs": [
        {
          "output_type": "stream",
          "name": "stderr",
          "text": [
            "/usr/local/lib/python3.7/dist-packages/sklearn/preprocessing/_label.py:115: DataConversionWarning: A column-vector y was passed when a 1d array was expected. Please change the shape of y to (n_samples, ), for example using ravel().\n",
            "  y = column_or_1d(y, warn=True)\n"
          ]
        }
      ]
    },
    {
      "cell_type": "code",
      "metadata": {
        "colab": {
          "base_uri": "https://localhost:8080/"
        },
        "id": "K_3akwcVEAzh",
        "outputId": "46efd1f0-2b1a-4d8f-fb89-e61238f1636f"
      },
      "source": [
        "# CREATE FUNCTION FOR KERAS CLASSIFIER\n",
        "opt = keras.optimizers.Adam(lr=0.0001)\n",
        "def make_classifier(optimizer=opt):\n",
        "    #BUILD CNN MODEL\n",
        "    model = Sequential()\n",
        "    model.add(layers.Conv1D(64, kernel_size=(10), activation='relu', input_shape=(X_train.shape[1],1)))\n",
        "    model.add(layers.Conv1D(128, kernel_size=(10),activation='relu',kernel_regularizer=l2(0.01), bias_regularizer=l2(0.01)))\n",
        "    model.add(layers.MaxPooling1D(pool_size=(8)))\n",
        "    model.add(layers.Dropout(0.4))\n",
        "    model.add(layers.Conv1D(128, kernel_size=(10),activation='relu'))\n",
        "    model.add(layers.MaxPooling1D(pool_size=(8)))\n",
        "    model.add(layers.Dropout(0.4))\n",
        "    model.add(layers.Flatten())\n",
        "    model.add(layers.Dense(256, activation='relu'))\n",
        "    model.add(layers.Dropout(0.4))\n",
        "    model.add(layers.Dense(8, activation='sigmoid'))\n",
        "    opt = keras.optimizers.Adam(lr=0.0001)\n",
        "    model.compile(loss='categorical_crossentropy', optimizer=opt,metrics=['accuracy'])\n",
        "    return model"
      ],
      "execution_count": 111,
      "outputs": [
        {
          "output_type": "stream",
          "name": "stderr",
          "text": [
            "/usr/local/lib/python3.7/dist-packages/keras/optimizer_v2/adam.py:105: UserWarning: The `lr` argument is deprecated, use `learning_rate` instead.\n",
            "  super(Adam, self).__init__(name, **kwargs)\n"
          ]
        }
      ]
    },
    {
      "cell_type": "code",
      "metadata": {
        "id": "DTLvKdyKEde6"
      },
      "source": [
        "y_trainHot=np.argmax(y_train, axis=1)"
      ],
      "execution_count": 112,
      "outputs": []
    },
    {
      "cell_type": "code",
      "metadata": {
        "colab": {
          "base_uri": "https://localhost:8080/"
        },
        "id": "3K6mEr2fEhKC",
        "outputId": "c5700017-63f3-4edf-e5df-481fa9814dd9"
      },
      "source": [
        "# GRID SEARCH PARAMETERS TO FIND BEST VALUES\n",
        "classifier = KerasClassifier(build_fn = make_classifier)\n",
        "params = {\n",
        "    'batch_size': [30, 32, 34],\n",
        "    'nb_epoch': [25, 50, 75],\n",
        "    'optimizer':['adam','SGD']}\n",
        "\n",
        "grid_search = GridSearchCV(estimator=classifier,\n",
        "                           param_grid=params,\n",
        "                           scoring='accuracy',\n",
        "                           cv=5)\n",
        "\n",
        "grid_search = grid_search.fit(X_train,y_trainHot)"
      ],
      "execution_count": 113,
      "outputs": [
        {
          "output_type": "stream",
          "name": "stderr",
          "text": [
            "/usr/local/lib/python3.7/dist-packages/ipykernel_launcher.py:2: DeprecationWarning: KerasClassifier is deprecated, use Sci-Keras (https://github.com/adriangb/scikeras) instead.\n",
            "  \n",
            "/usr/local/lib/python3.7/dist-packages/keras/optimizer_v2/adam.py:105: UserWarning: The `lr` argument is deprecated, use `learning_rate` instead.\n",
            "  super(Adam, self).__init__(name, **kwargs)\n",
            "/usr/local/lib/python3.7/dist-packages/tensorflow/python/data/ops/dataset_ops.py:4527: UserWarning: Even though the `tf.config.experimental_run_functions_eagerly` option is set, this option does not apply to tf.data functions. To force eager execution of tf.data functions, please use `tf.data.experimental.enable_debug_mode()`.\n",
            "  \"Even though the `tf.config.experimental_run_functions_eagerly` \"\n"
          ]
        },
        {
          "output_type": "stream",
          "name": "stdout",
          "text": [
            "31/31 [==============================] - 5s 158ms/step - loss: 2.9093 - accuracy: 0.1249\n"
          ]
        },
        {
          "output_type": "stream",
          "name": "stderr",
          "text": [
            "/usr/local/lib/python3.7/dist-packages/keras/optimizer_v2/adam.py:105: UserWarning: The `lr` argument is deprecated, use `learning_rate` instead.\n",
            "  super(Adam, self).__init__(name, **kwargs)\n",
            "/usr/local/lib/python3.7/dist-packages/tensorflow/python/data/ops/dataset_ops.py:4527: UserWarning: Even though the `tf.config.experimental_run_functions_eagerly` option is set, this option does not apply to tf.data functions. To force eager execution of tf.data functions, please use `tf.data.experimental.enable_debug_mode()`.\n",
            "  \"Even though the `tf.config.experimental_run_functions_eagerly` \"\n"
          ]
        },
        {
          "output_type": "stream",
          "name": "stdout",
          "text": [
            "31/31 [==============================] - 5s 157ms/step - loss: 2.8790 - accuracy: 0.1824\n"
          ]
        },
        {
          "output_type": "stream",
          "name": "stderr",
          "text": [
            "/usr/local/lib/python3.7/dist-packages/keras/optimizer_v2/adam.py:105: UserWarning: The `lr` argument is deprecated, use `learning_rate` instead.\n",
            "  super(Adam, self).__init__(name, **kwargs)\n",
            "/usr/local/lib/python3.7/dist-packages/tensorflow/python/data/ops/dataset_ops.py:4527: UserWarning: Even though the `tf.config.experimental_run_functions_eagerly` option is set, this option does not apply to tf.data functions. To force eager execution of tf.data functions, please use `tf.data.experimental.enable_debug_mode()`.\n",
            "  \"Even though the `tf.config.experimental_run_functions_eagerly` \"\n"
          ]
        },
        {
          "output_type": "stream",
          "name": "stdout",
          "text": [
            "31/31 [==============================] - 5s 157ms/step - loss: 2.9158 - accuracy: 0.1453\n"
          ]
        },
        {
          "output_type": "stream",
          "name": "stderr",
          "text": [
            "/usr/local/lib/python3.7/dist-packages/keras/optimizer_v2/adam.py:105: UserWarning: The `lr` argument is deprecated, use `learning_rate` instead.\n",
            "  super(Adam, self).__init__(name, **kwargs)\n",
            "/usr/local/lib/python3.7/dist-packages/tensorflow/python/data/ops/dataset_ops.py:4527: UserWarning: Even though the `tf.config.experimental_run_functions_eagerly` option is set, this option does not apply to tf.data functions. To force eager execution of tf.data functions, please use `tf.data.experimental.enable_debug_mode()`.\n",
            "  \"Even though the `tf.config.experimental_run_functions_eagerly` \"\n"
          ]
        },
        {
          "output_type": "stream",
          "name": "stdout",
          "text": [
            "31/31 [==============================] - 5s 157ms/step - loss: 2.9107 - accuracy: 0.1377\n"
          ]
        },
        {
          "output_type": "stream",
          "name": "stderr",
          "text": [
            "/usr/local/lib/python3.7/dist-packages/keras/optimizer_v2/adam.py:105: UserWarning: The `lr` argument is deprecated, use `learning_rate` instead.\n",
            "  super(Adam, self).__init__(name, **kwargs)\n",
            "/usr/local/lib/python3.7/dist-packages/tensorflow/python/data/ops/dataset_ops.py:4527: UserWarning: Even though the `tf.config.experimental_run_functions_eagerly` option is set, this option does not apply to tf.data functions. To force eager execution of tf.data functions, please use `tf.data.experimental.enable_debug_mode()`.\n",
            "  \"Even though the `tf.config.experimental_run_functions_eagerly` \"\n"
          ]
        },
        {
          "output_type": "stream",
          "name": "stdout",
          "text": [
            "31/31 [==============================] - 5s 157ms/step - loss: 2.8997 - accuracy: 0.1518\n"
          ]
        },
        {
          "output_type": "stream",
          "name": "stderr",
          "text": [
            "/usr/local/lib/python3.7/dist-packages/keras/optimizer_v2/adam.py:105: UserWarning: The `lr` argument is deprecated, use `learning_rate` instead.\n",
            "  super(Adam, self).__init__(name, **kwargs)\n",
            "/usr/local/lib/python3.7/dist-packages/tensorflow/python/data/ops/dataset_ops.py:4527: UserWarning: Even though the `tf.config.experimental_run_functions_eagerly` option is set, this option does not apply to tf.data functions. To force eager execution of tf.data functions, please use `tf.data.experimental.enable_debug_mode()`.\n",
            "  \"Even though the `tf.config.experimental_run_functions_eagerly` \"\n"
          ]
        },
        {
          "output_type": "stream",
          "name": "stdout",
          "text": [
            "31/31 [==============================] - 5s 159ms/step - loss: 2.8692 - accuracy: 0.1813\n"
          ]
        },
        {
          "output_type": "stream",
          "name": "stderr",
          "text": [
            "/usr/local/lib/python3.7/dist-packages/keras/optimizer_v2/adam.py:105: UserWarning: The `lr` argument is deprecated, use `learning_rate` instead.\n",
            "  super(Adam, self).__init__(name, **kwargs)\n",
            "/usr/local/lib/python3.7/dist-packages/tensorflow/python/data/ops/dataset_ops.py:4527: UserWarning: Even though the `tf.config.experimental_run_functions_eagerly` option is set, this option does not apply to tf.data functions. To force eager execution of tf.data functions, please use `tf.data.experimental.enable_debug_mode()`.\n",
            "  \"Even though the `tf.config.experimental_run_functions_eagerly` \"\n"
          ]
        },
        {
          "output_type": "stream",
          "name": "stdout",
          "text": [
            "31/31 [==============================] - 5s 158ms/step - loss: 2.8927 - accuracy: 0.1574\n"
          ]
        },
        {
          "output_type": "stream",
          "name": "stderr",
          "text": [
            "/usr/local/lib/python3.7/dist-packages/keras/optimizer_v2/adam.py:105: UserWarning: The `lr` argument is deprecated, use `learning_rate` instead.\n",
            "  super(Adam, self).__init__(name, **kwargs)\n",
            "/usr/local/lib/python3.7/dist-packages/tensorflow/python/data/ops/dataset_ops.py:4527: UserWarning: Even though the `tf.config.experimental_run_functions_eagerly` option is set, this option does not apply to tf.data functions. To force eager execution of tf.data functions, please use `tf.data.experimental.enable_debug_mode()`.\n",
            "  \"Even though the `tf.config.experimental_run_functions_eagerly` \"\n"
          ]
        },
        {
          "output_type": "stream",
          "name": "stdout",
          "text": [
            "31/31 [==============================] - 5s 159ms/step - loss: 2.8642 - accuracy: 0.1822\n"
          ]
        },
        {
          "output_type": "stream",
          "name": "stderr",
          "text": [
            "/usr/local/lib/python3.7/dist-packages/keras/optimizer_v2/adam.py:105: UserWarning: The `lr` argument is deprecated, use `learning_rate` instead.\n",
            "  super(Adam, self).__init__(name, **kwargs)\n",
            "/usr/local/lib/python3.7/dist-packages/tensorflow/python/data/ops/dataset_ops.py:4527: UserWarning: Even though the `tf.config.experimental_run_functions_eagerly` option is set, this option does not apply to tf.data functions. To force eager execution of tf.data functions, please use `tf.data.experimental.enable_debug_mode()`.\n",
            "  \"Even though the `tf.config.experimental_run_functions_eagerly` \"\n"
          ]
        },
        {
          "output_type": "stream",
          "name": "stdout",
          "text": [
            "31/31 [==============================] - 5s 159ms/step - loss: 2.8617 - accuracy: 0.1703\n"
          ]
        },
        {
          "output_type": "stream",
          "name": "stderr",
          "text": [
            "/usr/local/lib/python3.7/dist-packages/keras/optimizer_v2/adam.py:105: UserWarning: The `lr` argument is deprecated, use `learning_rate` instead.\n",
            "  super(Adam, self).__init__(name, **kwargs)\n",
            "/usr/local/lib/python3.7/dist-packages/tensorflow/python/data/ops/dataset_ops.py:4527: UserWarning: Even though the `tf.config.experimental_run_functions_eagerly` option is set, this option does not apply to tf.data functions. To force eager execution of tf.data functions, please use `tf.data.experimental.enable_debug_mode()`.\n",
            "  \"Even though the `tf.config.experimental_run_functions_eagerly` \"\n"
          ]
        },
        {
          "output_type": "stream",
          "name": "stdout",
          "text": [
            "31/31 [==============================] - 5s 160ms/step - loss: 2.8871 - accuracy: 0.1540\n"
          ]
        },
        {
          "output_type": "stream",
          "name": "stderr",
          "text": [
            "/usr/local/lib/python3.7/dist-packages/keras/optimizer_v2/adam.py:105: UserWarning: The `lr` argument is deprecated, use `learning_rate` instead.\n",
            "  super(Adam, self).__init__(name, **kwargs)\n",
            "/usr/local/lib/python3.7/dist-packages/tensorflow/python/data/ops/dataset_ops.py:4527: UserWarning: Even though the `tf.config.experimental_run_functions_eagerly` option is set, this option does not apply to tf.data functions. To force eager execution of tf.data functions, please use `tf.data.experimental.enable_debug_mode()`.\n",
            "  \"Even though the `tf.config.experimental_run_functions_eagerly` \"\n"
          ]
        },
        {
          "output_type": "stream",
          "name": "stdout",
          "text": [
            "31/31 [==============================] - 5s 160ms/step - loss: 2.8839 - accuracy: 0.1835\n"
          ]
        },
        {
          "output_type": "stream",
          "name": "stderr",
          "text": [
            "/usr/local/lib/python3.7/dist-packages/keras/optimizer_v2/adam.py:105: UserWarning: The `lr` argument is deprecated, use `learning_rate` instead.\n",
            "  super(Adam, self).__init__(name, **kwargs)\n",
            "/usr/local/lib/python3.7/dist-packages/tensorflow/python/data/ops/dataset_ops.py:4527: UserWarning: Even though the `tf.config.experimental_run_functions_eagerly` option is set, this option does not apply to tf.data functions. To force eager execution of tf.data functions, please use `tf.data.experimental.enable_debug_mode()`.\n",
            "  \"Even though the `tf.config.experimental_run_functions_eagerly` \"\n"
          ]
        },
        {
          "output_type": "stream",
          "name": "stdout",
          "text": [
            "31/31 [==============================] - 5s 159ms/step - loss: 2.8896 - accuracy: 0.1672\n"
          ]
        },
        {
          "output_type": "stream",
          "name": "stderr",
          "text": [
            "/usr/local/lib/python3.7/dist-packages/keras/optimizer_v2/adam.py:105: UserWarning: The `lr` argument is deprecated, use `learning_rate` instead.\n",
            "  super(Adam, self).__init__(name, **kwargs)\n",
            "/usr/local/lib/python3.7/dist-packages/tensorflow/python/data/ops/dataset_ops.py:4527: UserWarning: Even though the `tf.config.experimental_run_functions_eagerly` option is set, this option does not apply to tf.data functions. To force eager execution of tf.data functions, please use `tf.data.experimental.enable_debug_mode()`.\n",
            "  \"Even though the `tf.config.experimental_run_functions_eagerly` \"\n"
          ]
        },
        {
          "output_type": "stream",
          "name": "stdout",
          "text": [
            "31/31 [==============================] - 5s 159ms/step - loss: 2.8690 - accuracy: 0.1518\n"
          ]
        },
        {
          "output_type": "stream",
          "name": "stderr",
          "text": [
            "/usr/local/lib/python3.7/dist-packages/keras/optimizer_v2/adam.py:105: UserWarning: The `lr` argument is deprecated, use `learning_rate` instead.\n",
            "  super(Adam, self).__init__(name, **kwargs)\n",
            "/usr/local/lib/python3.7/dist-packages/tensorflow/python/data/ops/dataset_ops.py:4527: UserWarning: Even though the `tf.config.experimental_run_functions_eagerly` option is set, this option does not apply to tf.data functions. To force eager execution of tf.data functions, please use `tf.data.experimental.enable_debug_mode()`.\n",
            "  \"Even though the `tf.config.experimental_run_functions_eagerly` \"\n"
          ]
        },
        {
          "output_type": "stream",
          "name": "stdout",
          "text": [
            "31/31 [==============================] - 5s 157ms/step - loss: 2.8785 - accuracy: 0.1627\n"
          ]
        },
        {
          "output_type": "stream",
          "name": "stderr",
          "text": [
            "/usr/local/lib/python3.7/dist-packages/keras/optimizer_v2/adam.py:105: UserWarning: The `lr` argument is deprecated, use `learning_rate` instead.\n",
            "  super(Adam, self).__init__(name, **kwargs)\n",
            "/usr/local/lib/python3.7/dist-packages/tensorflow/python/data/ops/dataset_ops.py:4527: UserWarning: Even though the `tf.config.experimental_run_functions_eagerly` option is set, this option does not apply to tf.data functions. To force eager execution of tf.data functions, please use `tf.data.experimental.enable_debug_mode()`.\n",
            "  \"Even though the `tf.config.experimental_run_functions_eagerly` \"\n"
          ]
        },
        {
          "output_type": "stream",
          "name": "stdout",
          "text": [
            "31/31 [==============================] - 5s 159ms/step - loss: 2.8906 - accuracy: 0.1638\n"
          ]
        },
        {
          "output_type": "stream",
          "name": "stderr",
          "text": [
            "/usr/local/lib/python3.7/dist-packages/keras/optimizer_v2/adam.py:105: UserWarning: The `lr` argument is deprecated, use `learning_rate` instead.\n",
            "  super(Adam, self).__init__(name, **kwargs)\n",
            "/usr/local/lib/python3.7/dist-packages/tensorflow/python/data/ops/dataset_ops.py:4527: UserWarning: Even though the `tf.config.experimental_run_functions_eagerly` option is set, this option does not apply to tf.data functions. To force eager execution of tf.data functions, please use `tf.data.experimental.enable_debug_mode()`.\n",
            "  \"Even though the `tf.config.experimental_run_functions_eagerly` \"\n"
          ]
        },
        {
          "output_type": "stream",
          "name": "stdout",
          "text": [
            "31/31 [==============================] - 5s 158ms/step - loss: 2.8849 - accuracy: 0.1835\n"
          ]
        },
        {
          "output_type": "stream",
          "name": "stderr",
          "text": [
            "/usr/local/lib/python3.7/dist-packages/keras/optimizer_v2/adam.py:105: UserWarning: The `lr` argument is deprecated, use `learning_rate` instead.\n",
            "  super(Adam, self).__init__(name, **kwargs)\n",
            "/usr/local/lib/python3.7/dist-packages/tensorflow/python/data/ops/dataset_ops.py:4527: UserWarning: Even though the `tf.config.experimental_run_functions_eagerly` option is set, this option does not apply to tf.data functions. To force eager execution of tf.data functions, please use `tf.data.experimental.enable_debug_mode()`.\n",
            "  \"Even though the `tf.config.experimental_run_functions_eagerly` \"\n"
          ]
        },
        {
          "output_type": "stream",
          "name": "stdout",
          "text": [
            "31/31 [==============================] - 5s 158ms/step - loss: 2.8697 - accuracy: 0.1835\n"
          ]
        },
        {
          "output_type": "stream",
          "name": "stderr",
          "text": [
            "/usr/local/lib/python3.7/dist-packages/keras/optimizer_v2/adam.py:105: UserWarning: The `lr` argument is deprecated, use `learning_rate` instead.\n",
            "  super(Adam, self).__init__(name, **kwargs)\n",
            "/usr/local/lib/python3.7/dist-packages/tensorflow/python/data/ops/dataset_ops.py:4527: UserWarning: Even though the `tf.config.experimental_run_functions_eagerly` option is set, this option does not apply to tf.data functions. To force eager execution of tf.data functions, please use `tf.data.experimental.enable_debug_mode()`.\n",
            "  \"Even though the `tf.config.experimental_run_functions_eagerly` \"\n"
          ]
        },
        {
          "output_type": "stream",
          "name": "stdout",
          "text": [
            "31/31 [==============================] - 5s 157ms/step - loss: 2.8926 - accuracy: 0.1670\n"
          ]
        },
        {
          "output_type": "stream",
          "name": "stderr",
          "text": [
            "/usr/local/lib/python3.7/dist-packages/keras/optimizer_v2/adam.py:105: UserWarning: The `lr` argument is deprecated, use `learning_rate` instead.\n",
            "  super(Adam, self).__init__(name, **kwargs)\n",
            "/usr/local/lib/python3.7/dist-packages/tensorflow/python/data/ops/dataset_ops.py:4527: UserWarning: Even though the `tf.config.experimental_run_functions_eagerly` option is set, this option does not apply to tf.data functions. To force eager execution of tf.data functions, please use `tf.data.experimental.enable_debug_mode()`.\n",
            "  \"Even though the `tf.config.experimental_run_functions_eagerly` \"\n"
          ]
        },
        {
          "output_type": "stream",
          "name": "stdout",
          "text": [
            "31/31 [==============================] - 5s 159ms/step - loss: 2.8836 - accuracy: 0.1605\n"
          ]
        },
        {
          "output_type": "stream",
          "name": "stderr",
          "text": [
            "/usr/local/lib/python3.7/dist-packages/keras/optimizer_v2/adam.py:105: UserWarning: The `lr` argument is deprecated, use `learning_rate` instead.\n",
            "  super(Adam, self).__init__(name, **kwargs)\n",
            "/usr/local/lib/python3.7/dist-packages/tensorflow/python/data/ops/dataset_ops.py:4527: UserWarning: Even though the `tf.config.experimental_run_functions_eagerly` option is set, this option does not apply to tf.data functions. To force eager execution of tf.data functions, please use `tf.data.experimental.enable_debug_mode()`.\n",
            "  \"Even though the `tf.config.experimental_run_functions_eagerly` \"\n"
          ]
        },
        {
          "output_type": "stream",
          "name": "stdout",
          "text": [
            "31/31 [==============================] - 5s 159ms/step - loss: 2.8588 - accuracy: 0.1800\n"
          ]
        },
        {
          "output_type": "stream",
          "name": "stderr",
          "text": [
            "/usr/local/lib/python3.7/dist-packages/keras/optimizer_v2/adam.py:105: UserWarning: The `lr` argument is deprecated, use `learning_rate` instead.\n",
            "  super(Adam, self).__init__(name, **kwargs)\n",
            "/usr/local/lib/python3.7/dist-packages/tensorflow/python/data/ops/dataset_ops.py:4527: UserWarning: Even though the `tf.config.experimental_run_functions_eagerly` option is set, this option does not apply to tf.data functions. To force eager execution of tf.data functions, please use `tf.data.experimental.enable_debug_mode()`.\n",
            "  \"Even though the `tf.config.experimental_run_functions_eagerly` \"\n"
          ]
        },
        {
          "output_type": "stream",
          "name": "stdout",
          "text": [
            "31/31 [==============================] - 5s 159ms/step - loss: 2.8808 - accuracy: 0.1878\n"
          ]
        },
        {
          "output_type": "stream",
          "name": "stderr",
          "text": [
            "/usr/local/lib/python3.7/dist-packages/keras/optimizer_v2/adam.py:105: UserWarning: The `lr` argument is deprecated, use `learning_rate` instead.\n",
            "  super(Adam, self).__init__(name, **kwargs)\n",
            "/usr/local/lib/python3.7/dist-packages/tensorflow/python/data/ops/dataset_ops.py:4527: UserWarning: Even though the `tf.config.experimental_run_functions_eagerly` option is set, this option does not apply to tf.data functions. To force eager execution of tf.data functions, please use `tf.data.experimental.enable_debug_mode()`.\n",
            "  \"Even though the `tf.config.experimental_run_functions_eagerly` \"\n"
          ]
        },
        {
          "output_type": "stream",
          "name": "stdout",
          "text": [
            "31/31 [==============================] - 5s 157ms/step - loss: 2.8687 - accuracy: 0.1640\n"
          ]
        },
        {
          "output_type": "stream",
          "name": "stderr",
          "text": [
            "/usr/local/lib/python3.7/dist-packages/keras/optimizer_v2/adam.py:105: UserWarning: The `lr` argument is deprecated, use `learning_rate` instead.\n",
            "  super(Adam, self).__init__(name, **kwargs)\n",
            "/usr/local/lib/python3.7/dist-packages/tensorflow/python/data/ops/dataset_ops.py:4527: UserWarning: Even though the `tf.config.experimental_run_functions_eagerly` option is set, this option does not apply to tf.data functions. To force eager execution of tf.data functions, please use `tf.data.experimental.enable_debug_mode()`.\n",
            "  \"Even though the `tf.config.experimental_run_functions_eagerly` \"\n"
          ]
        },
        {
          "output_type": "stream",
          "name": "stdout",
          "text": [
            "31/31 [==============================] - 5s 159ms/step - loss: 2.8652 - accuracy: 0.1703\n"
          ]
        },
        {
          "output_type": "stream",
          "name": "stderr",
          "text": [
            "/usr/local/lib/python3.7/dist-packages/keras/optimizer_v2/adam.py:105: UserWarning: The `lr` argument is deprecated, use `learning_rate` instead.\n",
            "  super(Adam, self).__init__(name, **kwargs)\n",
            "/usr/local/lib/python3.7/dist-packages/tensorflow/python/data/ops/dataset_ops.py:4527: UserWarning: Even though the `tf.config.experimental_run_functions_eagerly` option is set, this option does not apply to tf.data functions. To force eager execution of tf.data functions, please use `tf.data.experimental.enable_debug_mode()`.\n",
            "  \"Even though the `tf.config.experimental_run_functions_eagerly` \"\n"
          ]
        },
        {
          "output_type": "stream",
          "name": "stdout",
          "text": [
            "31/31 [==============================] - 5s 159ms/step - loss: 2.8809 - accuracy: 0.1540\n"
          ]
        },
        {
          "output_type": "stream",
          "name": "stderr",
          "text": [
            "/usr/local/lib/python3.7/dist-packages/keras/optimizer_v2/adam.py:105: UserWarning: The `lr` argument is deprecated, use `learning_rate` instead.\n",
            "  super(Adam, self).__init__(name, **kwargs)\n",
            "/usr/local/lib/python3.7/dist-packages/tensorflow/python/data/ops/dataset_ops.py:4527: UserWarning: Even though the `tf.config.experimental_run_functions_eagerly` option is set, this option does not apply to tf.data functions. To force eager execution of tf.data functions, please use `tf.data.experimental.enable_debug_mode()`.\n",
            "  \"Even though the `tf.config.experimental_run_functions_eagerly` \"\n"
          ]
        },
        {
          "output_type": "stream",
          "name": "stdout",
          "text": [
            "31/31 [==============================] - 5s 159ms/step - loss: 2.8770 - accuracy: 0.1909\n"
          ]
        },
        {
          "output_type": "stream",
          "name": "stderr",
          "text": [
            "/usr/local/lib/python3.7/dist-packages/keras/optimizer_v2/adam.py:105: UserWarning: The `lr` argument is deprecated, use `learning_rate` instead.\n",
            "  super(Adam, self).__init__(name, **kwargs)\n",
            "/usr/local/lib/python3.7/dist-packages/tensorflow/python/data/ops/dataset_ops.py:4527: UserWarning: Even though the `tf.config.experimental_run_functions_eagerly` option is set, this option does not apply to tf.data functions. To force eager execution of tf.data functions, please use `tf.data.experimental.enable_debug_mode()`.\n",
            "  \"Even though the `tf.config.experimental_run_functions_eagerly` \"\n"
          ]
        },
        {
          "output_type": "stream",
          "name": "stdout",
          "text": [
            "31/31 [==============================] - 5s 158ms/step - loss: 2.8866 - accuracy: 0.1705\n"
          ]
        },
        {
          "output_type": "stream",
          "name": "stderr",
          "text": [
            "/usr/local/lib/python3.7/dist-packages/keras/optimizer_v2/adam.py:105: UserWarning: The `lr` argument is deprecated, use `learning_rate` instead.\n",
            "  super(Adam, self).__init__(name, **kwargs)\n",
            "/usr/local/lib/python3.7/dist-packages/tensorflow/python/data/ops/dataset_ops.py:4527: UserWarning: Even though the `tf.config.experimental_run_functions_eagerly` option is set, this option does not apply to tf.data functions. To force eager execution of tf.data functions, please use `tf.data.experimental.enable_debug_mode()`.\n",
            "  \"Even though the `tf.config.experimental_run_functions_eagerly` \"\n"
          ]
        },
        {
          "output_type": "stream",
          "name": "stdout",
          "text": [
            "31/31 [==============================] - 5s 159ms/step - loss: 2.8777 - accuracy: 0.1759\n"
          ]
        },
        {
          "output_type": "stream",
          "name": "stderr",
          "text": [
            "/usr/local/lib/python3.7/dist-packages/keras/optimizer_v2/adam.py:105: UserWarning: The `lr` argument is deprecated, use `learning_rate` instead.\n",
            "  super(Adam, self).__init__(name, **kwargs)\n",
            "/usr/local/lib/python3.7/dist-packages/tensorflow/python/data/ops/dataset_ops.py:4527: UserWarning: Even though the `tf.config.experimental_run_functions_eagerly` option is set, this option does not apply to tf.data functions. To force eager execution of tf.data functions, please use `tf.data.experimental.enable_debug_mode()`.\n",
            "  \"Even though the `tf.config.experimental_run_functions_eagerly` \"\n"
          ]
        },
        {
          "output_type": "stream",
          "name": "stdout",
          "text": [
            "31/31 [==============================] - 5s 159ms/step - loss: 2.8760 - accuracy: 0.1725\n"
          ]
        },
        {
          "output_type": "stream",
          "name": "stderr",
          "text": [
            "/usr/local/lib/python3.7/dist-packages/keras/optimizer_v2/adam.py:105: UserWarning: The `lr` argument is deprecated, use `learning_rate` instead.\n",
            "  super(Adam, self).__init__(name, **kwargs)\n",
            "/usr/local/lib/python3.7/dist-packages/tensorflow/python/data/ops/dataset_ops.py:4527: UserWarning: Even though the `tf.config.experimental_run_functions_eagerly` option is set, this option does not apply to tf.data functions. To force eager execution of tf.data functions, please use `tf.data.experimental.enable_debug_mode()`.\n",
            "  \"Even though the `tf.config.experimental_run_functions_eagerly` \"\n"
          ]
        },
        {
          "output_type": "stream",
          "name": "stdout",
          "text": [
            "31/31 [==============================] - 5s 156ms/step - loss: 2.8791 - accuracy: 0.1616\n"
          ]
        },
        {
          "output_type": "stream",
          "name": "stderr",
          "text": [
            "/usr/local/lib/python3.7/dist-packages/keras/optimizer_v2/adam.py:105: UserWarning: The `lr` argument is deprecated, use `learning_rate` instead.\n",
            "  super(Adam, self).__init__(name, **kwargs)\n",
            "/usr/local/lib/python3.7/dist-packages/tensorflow/python/data/ops/dataset_ops.py:4527: UserWarning: Even though the `tf.config.experimental_run_functions_eagerly` option is set, this option does not apply to tf.data functions. To force eager execution of tf.data functions, please use `tf.data.experimental.enable_debug_mode()`.\n",
            "  \"Even though the `tf.config.experimental_run_functions_eagerly` \"\n"
          ]
        },
        {
          "output_type": "stream",
          "name": "stdout",
          "text": [
            "31/31 [==============================] - 5s 157ms/step - loss: 2.8794 - accuracy: 0.1594\n"
          ]
        },
        {
          "output_type": "stream",
          "name": "stderr",
          "text": [
            "/usr/local/lib/python3.7/dist-packages/keras/optimizer_v2/adam.py:105: UserWarning: The `lr` argument is deprecated, use `learning_rate` instead.\n",
            "  super(Adam, self).__init__(name, **kwargs)\n",
            "/usr/local/lib/python3.7/dist-packages/tensorflow/python/data/ops/dataset_ops.py:4527: UserWarning: Even though the `tf.config.experimental_run_functions_eagerly` option is set, this option does not apply to tf.data functions. To force eager execution of tf.data functions, please use `tf.data.experimental.enable_debug_mode()`.\n",
            "  \"Even though the `tf.config.experimental_run_functions_eagerly` \"\n"
          ]
        },
        {
          "output_type": "stream",
          "name": "stdout",
          "text": [
            "29/29 [==============================] - 5s 165ms/step - loss: 2.8816 - accuracy: 0.1737\n"
          ]
        },
        {
          "output_type": "stream",
          "name": "stderr",
          "text": [
            "/usr/local/lib/python3.7/dist-packages/keras/optimizer_v2/adam.py:105: UserWarning: The `lr` argument is deprecated, use `learning_rate` instead.\n",
            "  super(Adam, self).__init__(name, **kwargs)\n",
            "/usr/local/lib/python3.7/dist-packages/tensorflow/python/data/ops/dataset_ops.py:4527: UserWarning: Even though the `tf.config.experimental_run_functions_eagerly` option is set, this option does not apply to tf.data functions. To force eager execution of tf.data functions, please use `tf.data.experimental.enable_debug_mode()`.\n",
            "  \"Even though the `tf.config.experimental_run_functions_eagerly` \"\n"
          ]
        },
        {
          "output_type": "stream",
          "name": "stdout",
          "text": [
            "29/29 [==============================] - 5s 167ms/step - loss: 2.8760 - accuracy: 0.1781\n"
          ]
        },
        {
          "output_type": "stream",
          "name": "stderr",
          "text": [
            "/usr/local/lib/python3.7/dist-packages/keras/optimizer_v2/adam.py:105: UserWarning: The `lr` argument is deprecated, use `learning_rate` instead.\n",
            "  super(Adam, self).__init__(name, **kwargs)\n",
            "/usr/local/lib/python3.7/dist-packages/tensorflow/python/data/ops/dataset_ops.py:4527: UserWarning: Even though the `tf.config.experimental_run_functions_eagerly` option is set, this option does not apply to tf.data functions. To force eager execution of tf.data functions, please use `tf.data.experimental.enable_debug_mode()`.\n",
            "  \"Even though the `tf.config.experimental_run_functions_eagerly` \"\n"
          ]
        },
        {
          "output_type": "stream",
          "name": "stdout",
          "text": [
            "29/29 [==============================] - 5s 167ms/step - loss: 2.8973 - accuracy: 0.1638\n"
          ]
        },
        {
          "output_type": "stream",
          "name": "stderr",
          "text": [
            "/usr/local/lib/python3.7/dist-packages/keras/optimizer_v2/adam.py:105: UserWarning: The `lr` argument is deprecated, use `learning_rate` instead.\n",
            "  super(Adam, self).__init__(name, **kwargs)\n",
            "/usr/local/lib/python3.7/dist-packages/tensorflow/python/data/ops/dataset_ops.py:4527: UserWarning: Even though the `tf.config.experimental_run_functions_eagerly` option is set, this option does not apply to tf.data functions. To force eager execution of tf.data functions, please use `tf.data.experimental.enable_debug_mode()`.\n",
            "  \"Even though the `tf.config.experimental_run_functions_eagerly` \"\n"
          ]
        },
        {
          "output_type": "stream",
          "name": "stdout",
          "text": [
            "29/29 [==============================] - 5s 169ms/step - loss: 2.8950 - accuracy: 0.1714\n"
          ]
        },
        {
          "output_type": "stream",
          "name": "stderr",
          "text": [
            "/usr/local/lib/python3.7/dist-packages/keras/optimizer_v2/adam.py:105: UserWarning: The `lr` argument is deprecated, use `learning_rate` instead.\n",
            "  super(Adam, self).__init__(name, **kwargs)\n",
            "/usr/local/lib/python3.7/dist-packages/tensorflow/python/data/ops/dataset_ops.py:4527: UserWarning: Even though the `tf.config.experimental_run_functions_eagerly` option is set, this option does not apply to tf.data functions. To force eager execution of tf.data functions, please use `tf.data.experimental.enable_debug_mode()`.\n",
            "  \"Even though the `tf.config.experimental_run_functions_eagerly` \"\n"
          ]
        },
        {
          "output_type": "stream",
          "name": "stdout",
          "text": [
            "29/29 [==============================] - 5s 167ms/step - loss: 2.8844 - accuracy: 0.1725\n"
          ]
        },
        {
          "output_type": "stream",
          "name": "stderr",
          "text": [
            "/usr/local/lib/python3.7/dist-packages/keras/optimizer_v2/adam.py:105: UserWarning: The `lr` argument is deprecated, use `learning_rate` instead.\n",
            "  super(Adam, self).__init__(name, **kwargs)\n",
            "/usr/local/lib/python3.7/dist-packages/tensorflow/python/data/ops/dataset_ops.py:4527: UserWarning: Even though the `tf.config.experimental_run_functions_eagerly` option is set, this option does not apply to tf.data functions. To force eager execution of tf.data functions, please use `tf.data.experimental.enable_debug_mode()`.\n",
            "  \"Even though the `tf.config.experimental_run_functions_eagerly` \"\n"
          ]
        },
        {
          "output_type": "stream",
          "name": "stdout",
          "text": [
            "29/29 [==============================] - 5s 167ms/step - loss: 2.8718 - accuracy: 0.1878\n"
          ]
        },
        {
          "output_type": "stream",
          "name": "stderr",
          "text": [
            "/usr/local/lib/python3.7/dist-packages/keras/optimizer_v2/adam.py:105: UserWarning: The `lr` argument is deprecated, use `learning_rate` instead.\n",
            "  super(Adam, self).__init__(name, **kwargs)\n",
            "/usr/local/lib/python3.7/dist-packages/tensorflow/python/data/ops/dataset_ops.py:4527: UserWarning: Even though the `tf.config.experimental_run_functions_eagerly` option is set, this option does not apply to tf.data functions. To force eager execution of tf.data functions, please use `tf.data.experimental.enable_debug_mode()`.\n",
            "  \"Even though the `tf.config.experimental_run_functions_eagerly` \"\n"
          ]
        },
        {
          "output_type": "stream",
          "name": "stdout",
          "text": [
            "29/29 [==============================] - 5s 167ms/step - loss: 2.8897 - accuracy: 0.1498\n"
          ]
        },
        {
          "output_type": "stream",
          "name": "stderr",
          "text": [
            "/usr/local/lib/python3.7/dist-packages/keras/optimizer_v2/adam.py:105: UserWarning: The `lr` argument is deprecated, use `learning_rate` instead.\n",
            "  super(Adam, self).__init__(name, **kwargs)\n",
            "/usr/local/lib/python3.7/dist-packages/tensorflow/python/data/ops/dataset_ops.py:4527: UserWarning: Even though the `tf.config.experimental_run_functions_eagerly` option is set, this option does not apply to tf.data functions. To force eager execution of tf.data functions, please use `tf.data.experimental.enable_debug_mode()`.\n",
            "  \"Even though the `tf.config.experimental_run_functions_eagerly` \"\n"
          ]
        },
        {
          "output_type": "stream",
          "name": "stdout",
          "text": [
            "29/29 [==============================] - 5s 169ms/step - loss: 2.8739 - accuracy: 0.1703\n"
          ]
        },
        {
          "output_type": "stream",
          "name": "stderr",
          "text": [
            "/usr/local/lib/python3.7/dist-packages/keras/optimizer_v2/adam.py:105: UserWarning: The `lr` argument is deprecated, use `learning_rate` instead.\n",
            "  super(Adam, self).__init__(name, **kwargs)\n",
            "/usr/local/lib/python3.7/dist-packages/tensorflow/python/data/ops/dataset_ops.py:4527: UserWarning: Even though the `tf.config.experimental_run_functions_eagerly` option is set, this option does not apply to tf.data functions. To force eager execution of tf.data functions, please use `tf.data.experimental.enable_debug_mode()`.\n",
            "  \"Even though the `tf.config.experimental_run_functions_eagerly` \"\n"
          ]
        },
        {
          "output_type": "stream",
          "name": "stdout",
          "text": [
            "29/29 [==============================] - 5s 168ms/step - loss: 2.8897 - accuracy: 0.1529\n"
          ]
        },
        {
          "output_type": "stream",
          "name": "stderr",
          "text": [
            "/usr/local/lib/python3.7/dist-packages/keras/optimizer_v2/adam.py:105: UserWarning: The `lr` argument is deprecated, use `learning_rate` instead.\n",
            "  super(Adam, self).__init__(name, **kwargs)\n",
            "/usr/local/lib/python3.7/dist-packages/tensorflow/python/data/ops/dataset_ops.py:4527: UserWarning: Even though the `tf.config.experimental_run_functions_eagerly` option is set, this option does not apply to tf.data functions. To force eager execution of tf.data functions, please use `tf.data.experimental.enable_debug_mode()`.\n",
            "  \"Even though the `tf.config.experimental_run_functions_eagerly` \"\n"
          ]
        },
        {
          "output_type": "stream",
          "name": "stdout",
          "text": [
            "29/29 [==============================] - 5s 169ms/step - loss: 2.8642 - accuracy: 0.1681\n"
          ]
        },
        {
          "output_type": "stream",
          "name": "stderr",
          "text": [
            "/usr/local/lib/python3.7/dist-packages/keras/optimizer_v2/adam.py:105: UserWarning: The `lr` argument is deprecated, use `learning_rate` instead.\n",
            "  super(Adam, self).__init__(name, **kwargs)\n",
            "/usr/local/lib/python3.7/dist-packages/tensorflow/python/data/ops/dataset_ops.py:4527: UserWarning: Even though the `tf.config.experimental_run_functions_eagerly` option is set, this option does not apply to tf.data functions. To force eager execution of tf.data functions, please use `tf.data.experimental.enable_debug_mode()`.\n",
            "  \"Even though the `tf.config.experimental_run_functions_eagerly` \"\n"
          ]
        },
        {
          "output_type": "stream",
          "name": "stdout",
          "text": [
            "29/29 [==============================] - 5s 168ms/step - loss: 2.8723 - accuracy: 0.1824\n"
          ]
        },
        {
          "output_type": "stream",
          "name": "stderr",
          "text": [
            "/usr/local/lib/python3.7/dist-packages/keras/optimizer_v2/adam.py:105: UserWarning: The `lr` argument is deprecated, use `learning_rate` instead.\n",
            "  super(Adam, self).__init__(name, **kwargs)\n",
            "/usr/local/lib/python3.7/dist-packages/tensorflow/python/data/ops/dataset_ops.py:4527: UserWarning: Even though the `tf.config.experimental_run_functions_eagerly` option is set, this option does not apply to tf.data functions. To force eager execution of tf.data functions, please use `tf.data.experimental.enable_debug_mode()`.\n",
            "  \"Even though the `tf.config.experimental_run_functions_eagerly` \"\n"
          ]
        },
        {
          "output_type": "stream",
          "name": "stdout",
          "text": [
            "29/29 [==============================] - 5s 167ms/step - loss: 2.8993 - accuracy: 0.1672\n"
          ]
        },
        {
          "output_type": "stream",
          "name": "stderr",
          "text": [
            "/usr/local/lib/python3.7/dist-packages/keras/optimizer_v2/adam.py:105: UserWarning: The `lr` argument is deprecated, use `learning_rate` instead.\n",
            "  super(Adam, self).__init__(name, **kwargs)\n",
            "/usr/local/lib/python3.7/dist-packages/tensorflow/python/data/ops/dataset_ops.py:4527: UserWarning: Even though the `tf.config.experimental_run_functions_eagerly` option is set, this option does not apply to tf.data functions. To force eager execution of tf.data functions, please use `tf.data.experimental.enable_debug_mode()`.\n",
            "  \"Even though the `tf.config.experimental_run_functions_eagerly` \"\n"
          ]
        },
        {
          "output_type": "stream",
          "name": "stdout",
          "text": [
            "29/29 [==============================] - 5s 167ms/step - loss: 2.8849 - accuracy: 0.1594\n"
          ]
        },
        {
          "output_type": "stream",
          "name": "stderr",
          "text": [
            "/usr/local/lib/python3.7/dist-packages/keras/optimizer_v2/adam.py:105: UserWarning: The `lr` argument is deprecated, use `learning_rate` instead.\n",
            "  super(Adam, self).__init__(name, **kwargs)\n",
            "/usr/local/lib/python3.7/dist-packages/tensorflow/python/data/ops/dataset_ops.py:4527: UserWarning: Even though the `tf.config.experimental_run_functions_eagerly` option is set, this option does not apply to tf.data functions. To force eager execution of tf.data functions, please use `tf.data.experimental.enable_debug_mode()`.\n",
            "  \"Even though the `tf.config.experimental_run_functions_eagerly` \"\n"
          ]
        },
        {
          "output_type": "stream",
          "name": "stdout",
          "text": [
            "29/29 [==============================] - 5s 167ms/step - loss: 2.8741 - accuracy: 0.1920\n"
          ]
        },
        {
          "output_type": "stream",
          "name": "stderr",
          "text": [
            "/usr/local/lib/python3.7/dist-packages/keras/optimizer_v2/adam.py:105: UserWarning: The `lr` argument is deprecated, use `learning_rate` instead.\n",
            "  super(Adam, self).__init__(name, **kwargs)\n",
            "/usr/local/lib/python3.7/dist-packages/tensorflow/python/data/ops/dataset_ops.py:4527: UserWarning: Even though the `tf.config.experimental_run_functions_eagerly` option is set, this option does not apply to tf.data functions. To force eager execution of tf.data functions, please use `tf.data.experimental.enable_debug_mode()`.\n",
            "  \"Even though the `tf.config.experimental_run_functions_eagerly` \"\n"
          ]
        },
        {
          "output_type": "stream",
          "name": "stdout",
          "text": [
            "29/29 [==============================] - 5s 167ms/step - loss: 2.8866 - accuracy: 0.1670\n"
          ]
        },
        {
          "output_type": "stream",
          "name": "stderr",
          "text": [
            "/usr/local/lib/python3.7/dist-packages/keras/optimizer_v2/adam.py:105: UserWarning: The `lr` argument is deprecated, use `learning_rate` instead.\n",
            "  super(Adam, self).__init__(name, **kwargs)\n",
            "/usr/local/lib/python3.7/dist-packages/tensorflow/python/data/ops/dataset_ops.py:4527: UserWarning: Even though the `tf.config.experimental_run_functions_eagerly` option is set, this option does not apply to tf.data functions. To force eager execution of tf.data functions, please use `tf.data.experimental.enable_debug_mode()`.\n",
            "  \"Even though the `tf.config.experimental_run_functions_eagerly` \"\n"
          ]
        },
        {
          "output_type": "stream",
          "name": "stdout",
          "text": [
            "29/29 [==============================] - 5s 167ms/step - loss: 2.8892 - accuracy: 0.1737\n"
          ]
        },
        {
          "output_type": "stream",
          "name": "stderr",
          "text": [
            "/usr/local/lib/python3.7/dist-packages/keras/optimizer_v2/adam.py:105: UserWarning: The `lr` argument is deprecated, use `learning_rate` instead.\n",
            "  super(Adam, self).__init__(name, **kwargs)\n",
            "/usr/local/lib/python3.7/dist-packages/tensorflow/python/data/ops/dataset_ops.py:4527: UserWarning: Even though the `tf.config.experimental_run_functions_eagerly` option is set, this option does not apply to tf.data functions. To force eager execution of tf.data functions, please use `tf.data.experimental.enable_debug_mode()`.\n",
            "  \"Even though the `tf.config.experimental_run_functions_eagerly` \"\n"
          ]
        },
        {
          "output_type": "stream",
          "name": "stdout",
          "text": [
            "29/29 [==============================] - 5s 167ms/step - loss: 2.8860 - accuracy: 0.1498\n"
          ]
        },
        {
          "output_type": "stream",
          "name": "stderr",
          "text": [
            "/usr/local/lib/python3.7/dist-packages/keras/optimizer_v2/adam.py:105: UserWarning: The `lr` argument is deprecated, use `learning_rate` instead.\n",
            "  super(Adam, self).__init__(name, **kwargs)\n",
            "/usr/local/lib/python3.7/dist-packages/tensorflow/python/data/ops/dataset_ops.py:4527: UserWarning: Even though the `tf.config.experimental_run_functions_eagerly` option is set, this option does not apply to tf.data functions. To force eager execution of tf.data functions, please use `tf.data.experimental.enable_debug_mode()`.\n",
            "  \"Even though the `tf.config.experimental_run_functions_eagerly` \"\n"
          ]
        },
        {
          "output_type": "stream",
          "name": "stdout",
          "text": [
            "29/29 [==============================] - 5s 169ms/step - loss: 2.8918 - accuracy: 0.1649\n"
          ]
        },
        {
          "output_type": "stream",
          "name": "stderr",
          "text": [
            "/usr/local/lib/python3.7/dist-packages/keras/optimizer_v2/adam.py:105: UserWarning: The `lr` argument is deprecated, use `learning_rate` instead.\n",
            "  super(Adam, self).__init__(name, **kwargs)\n",
            "/usr/local/lib/python3.7/dist-packages/tensorflow/python/data/ops/dataset_ops.py:4527: UserWarning: Even though the `tf.config.experimental_run_functions_eagerly` option is set, this option does not apply to tf.data functions. To force eager execution of tf.data functions, please use `tf.data.experimental.enable_debug_mode()`.\n",
            "  \"Even though the `tf.config.experimental_run_functions_eagerly` \"\n"
          ]
        },
        {
          "output_type": "stream",
          "name": "stdout",
          "text": [
            "29/29 [==============================] - 5s 170ms/step - loss: 2.9113 - accuracy: 0.1323\n"
          ]
        },
        {
          "output_type": "stream",
          "name": "stderr",
          "text": [
            "/usr/local/lib/python3.7/dist-packages/keras/optimizer_v2/adam.py:105: UserWarning: The `lr` argument is deprecated, use `learning_rate` instead.\n",
            "  super(Adam, self).__init__(name, **kwargs)\n",
            "/usr/local/lib/python3.7/dist-packages/tensorflow/python/data/ops/dataset_ops.py:4527: UserWarning: Even though the `tf.config.experimental_run_functions_eagerly` option is set, this option does not apply to tf.data functions. To force eager execution of tf.data functions, please use `tf.data.experimental.enable_debug_mode()`.\n",
            "  \"Even though the `tf.config.experimental_run_functions_eagerly` \"\n"
          ]
        },
        {
          "output_type": "stream",
          "name": "stdout",
          "text": [
            "29/29 [==============================] - 5s 168ms/step - loss: 2.8839 - accuracy: 0.1735\n"
          ]
        },
        {
          "output_type": "stream",
          "name": "stderr",
          "text": [
            "/usr/local/lib/python3.7/dist-packages/keras/optimizer_v2/adam.py:105: UserWarning: The `lr` argument is deprecated, use `learning_rate` instead.\n",
            "  super(Adam, self).__init__(name, **kwargs)\n",
            "/usr/local/lib/python3.7/dist-packages/tensorflow/python/data/ops/dataset_ops.py:4527: UserWarning: Even though the `tf.config.experimental_run_functions_eagerly` option is set, this option does not apply to tf.data functions. To force eager execution of tf.data functions, please use `tf.data.experimental.enable_debug_mode()`.\n",
            "  \"Even though the `tf.config.experimental_run_functions_eagerly` \"\n"
          ]
        },
        {
          "output_type": "stream",
          "name": "stdout",
          "text": [
            "29/29 [==============================] - 5s 168ms/step - loss: 2.8866 - accuracy: 0.1640\n"
          ]
        },
        {
          "output_type": "stream",
          "name": "stderr",
          "text": [
            "/usr/local/lib/python3.7/dist-packages/keras/optimizer_v2/adam.py:105: UserWarning: The `lr` argument is deprecated, use `learning_rate` instead.\n",
            "  super(Adam, self).__init__(name, **kwargs)\n",
            "/usr/local/lib/python3.7/dist-packages/tensorflow/python/data/ops/dataset_ops.py:4527: UserWarning: Even though the `tf.config.experimental_run_functions_eagerly` option is set, this option does not apply to tf.data functions. To force eager execution of tf.data functions, please use `tf.data.experimental.enable_debug_mode()`.\n",
            "  \"Even though the `tf.config.experimental_run_functions_eagerly` \"\n"
          ]
        },
        {
          "output_type": "stream",
          "name": "stdout",
          "text": [
            "29/29 [==============================] - 5s 168ms/step - loss: 2.8709 - accuracy: 0.1585\n"
          ]
        },
        {
          "output_type": "stream",
          "name": "stderr",
          "text": [
            "/usr/local/lib/python3.7/dist-packages/keras/optimizer_v2/adam.py:105: UserWarning: The `lr` argument is deprecated, use `learning_rate` instead.\n",
            "  super(Adam, self).__init__(name, **kwargs)\n",
            "/usr/local/lib/python3.7/dist-packages/tensorflow/python/data/ops/dataset_ops.py:4527: UserWarning: Even though the `tf.config.experimental_run_functions_eagerly` option is set, this option does not apply to tf.data functions. To force eager execution of tf.data functions, please use `tf.data.experimental.enable_debug_mode()`.\n",
            "  \"Even though the `tf.config.experimental_run_functions_eagerly` \"\n"
          ]
        },
        {
          "output_type": "stream",
          "name": "stdout",
          "text": [
            "29/29 [==============================] - 5s 168ms/step - loss: 2.8887 - accuracy: 0.1573\n"
          ]
        },
        {
          "output_type": "stream",
          "name": "stderr",
          "text": [
            "/usr/local/lib/python3.7/dist-packages/keras/optimizer_v2/adam.py:105: UserWarning: The `lr` argument is deprecated, use `learning_rate` instead.\n",
            "  super(Adam, self).__init__(name, **kwargs)\n",
            "/usr/local/lib/python3.7/dist-packages/tensorflow/python/data/ops/dataset_ops.py:4527: UserWarning: Even though the `tf.config.experimental_run_functions_eagerly` option is set, this option does not apply to tf.data functions. To force eager execution of tf.data functions, please use `tf.data.experimental.enable_debug_mode()`.\n",
            "  \"Even though the `tf.config.experimental_run_functions_eagerly` \"\n"
          ]
        },
        {
          "output_type": "stream",
          "name": "stdout",
          "text": [
            "29/29 [==============================] - 5s 168ms/step - loss: 2.8913 - accuracy: 0.1388\n"
          ]
        },
        {
          "output_type": "stream",
          "name": "stderr",
          "text": [
            "/usr/local/lib/python3.7/dist-packages/keras/optimizer_v2/adam.py:105: UserWarning: The `lr` argument is deprecated, use `learning_rate` instead.\n",
            "  super(Adam, self).__init__(name, **kwargs)\n",
            "/usr/local/lib/python3.7/dist-packages/tensorflow/python/data/ops/dataset_ops.py:4527: UserWarning: Even though the `tf.config.experimental_run_functions_eagerly` option is set, this option does not apply to tf.data functions. To force eager execution of tf.data functions, please use `tf.data.experimental.enable_debug_mode()`.\n",
            "  \"Even though the `tf.config.experimental_run_functions_eagerly` \"\n"
          ]
        },
        {
          "output_type": "stream",
          "name": "stdout",
          "text": [
            "29/29 [==============================] - 5s 166ms/step - loss: 2.8840 - accuracy: 0.1714\n"
          ]
        },
        {
          "output_type": "stream",
          "name": "stderr",
          "text": [
            "/usr/local/lib/python3.7/dist-packages/keras/optimizer_v2/adam.py:105: UserWarning: The `lr` argument is deprecated, use `learning_rate` instead.\n",
            "  super(Adam, self).__init__(name, **kwargs)\n",
            "/usr/local/lib/python3.7/dist-packages/tensorflow/python/data/ops/dataset_ops.py:4527: UserWarning: Even though the `tf.config.experimental_run_functions_eagerly` option is set, this option does not apply to tf.data functions. To force eager execution of tf.data functions, please use `tf.data.experimental.enable_debug_mode()`.\n",
            "  \"Even though the `tf.config.experimental_run_functions_eagerly` \"\n"
          ]
        },
        {
          "output_type": "stream",
          "name": "stdout",
          "text": [
            "29/29 [==============================] - 5s 171ms/step - loss: 2.9054 - accuracy: 0.1726\n"
          ]
        },
        {
          "output_type": "stream",
          "name": "stderr",
          "text": [
            "/usr/local/lib/python3.7/dist-packages/keras/optimizer_v2/adam.py:105: UserWarning: The `lr` argument is deprecated, use `learning_rate` instead.\n",
            "  super(Adam, self).__init__(name, **kwargs)\n",
            "/usr/local/lib/python3.7/dist-packages/tensorflow/python/data/ops/dataset_ops.py:4527: UserWarning: Even though the `tf.config.experimental_run_functions_eagerly` option is set, this option does not apply to tf.data functions. To force eager execution of tf.data functions, please use `tf.data.experimental.enable_debug_mode()`.\n",
            "  \"Even though the `tf.config.experimental_run_functions_eagerly` \"\n"
          ]
        },
        {
          "output_type": "stream",
          "name": "stdout",
          "text": [
            "29/29 [==============================] - 5s 167ms/step - loss: 2.8817 - accuracy: 0.1629\n"
          ]
        },
        {
          "output_type": "stream",
          "name": "stderr",
          "text": [
            "/usr/local/lib/python3.7/dist-packages/keras/optimizer_v2/adam.py:105: UserWarning: The `lr` argument is deprecated, use `learning_rate` instead.\n",
            "  super(Adam, self).__init__(name, **kwargs)\n",
            "/usr/local/lib/python3.7/dist-packages/tensorflow/python/data/ops/dataset_ops.py:4527: UserWarning: Even though the `tf.config.experimental_run_functions_eagerly` option is set, this option does not apply to tf.data functions. To force eager execution of tf.data functions, please use `tf.data.experimental.enable_debug_mode()`.\n",
            "  \"Even though the `tf.config.experimental_run_functions_eagerly` \"\n"
          ]
        },
        {
          "output_type": "stream",
          "name": "stdout",
          "text": [
            "29/29 [==============================] - 5s 165ms/step - loss: 2.8600 - accuracy: 0.1790\n"
          ]
        },
        {
          "output_type": "stream",
          "name": "stderr",
          "text": [
            "/usr/local/lib/python3.7/dist-packages/keras/optimizer_v2/adam.py:105: UserWarning: The `lr` argument is deprecated, use `learning_rate` instead.\n",
            "  super(Adam, self).__init__(name, **kwargs)\n",
            "/usr/local/lib/python3.7/dist-packages/tensorflow/python/data/ops/dataset_ops.py:4527: UserWarning: Even though the `tf.config.experimental_run_functions_eagerly` option is set, this option does not apply to tf.data functions. To force eager execution of tf.data functions, please use `tf.data.experimental.enable_debug_mode()`.\n",
            "  \"Even though the `tf.config.experimental_run_functions_eagerly` \"\n"
          ]
        },
        {
          "output_type": "stream",
          "name": "stdout",
          "text": [
            "29/29 [==============================] - 5s 167ms/step - loss: 2.8922 - accuracy: 0.1302\n"
          ]
        },
        {
          "output_type": "stream",
          "name": "stderr",
          "text": [
            "/usr/local/lib/python3.7/dist-packages/keras/optimizer_v2/adam.py:105: UserWarning: The `lr` argument is deprecated, use `learning_rate` instead.\n",
            "  super(Adam, self).__init__(name, **kwargs)\n",
            "/usr/local/lib/python3.7/dist-packages/tensorflow/python/data/ops/dataset_ops.py:4527: UserWarning: Even though the `tf.config.experimental_run_functions_eagerly` option is set, this option does not apply to tf.data functions. To force eager execution of tf.data functions, please use `tf.data.experimental.enable_debug_mode()`.\n",
            "  \"Even though the `tf.config.experimental_run_functions_eagerly` \"\n"
          ]
        },
        {
          "output_type": "stream",
          "name": "stdout",
          "text": [
            "29/29 [==============================] - 5s 168ms/step - loss: 2.8837 - accuracy: 0.1692\n"
          ]
        },
        {
          "output_type": "stream",
          "name": "stderr",
          "text": [
            "/usr/local/lib/python3.7/dist-packages/keras/optimizer_v2/adam.py:105: UserWarning: The `lr` argument is deprecated, use `learning_rate` instead.\n",
            "  super(Adam, self).__init__(name, **kwargs)\n",
            "/usr/local/lib/python3.7/dist-packages/tensorflow/python/data/ops/dataset_ops.py:4527: UserWarning: Even though the `tf.config.experimental_run_functions_eagerly` option is set, this option does not apply to tf.data functions. To force eager execution of tf.data functions, please use `tf.data.experimental.enable_debug_mode()`.\n",
            "  \"Even though the `tf.config.experimental_run_functions_eagerly` \"\n"
          ]
        },
        {
          "output_type": "stream",
          "name": "stdout",
          "text": [
            "28/28 [==============================] - 5s 172ms/step - loss: 2.8935 - accuracy: 0.1640\n"
          ]
        },
        {
          "output_type": "stream",
          "name": "stderr",
          "text": [
            "/usr/local/lib/python3.7/dist-packages/keras/optimizer_v2/adam.py:105: UserWarning: The `lr` argument is deprecated, use `learning_rate` instead.\n",
            "  super(Adam, self).__init__(name, **kwargs)\n",
            "/usr/local/lib/python3.7/dist-packages/tensorflow/python/data/ops/dataset_ops.py:4527: UserWarning: Even though the `tf.config.experimental_run_functions_eagerly` option is set, this option does not apply to tf.data functions. To force eager execution of tf.data functions, please use `tf.data.experimental.enable_debug_mode()`.\n",
            "  \"Even though the `tf.config.experimental_run_functions_eagerly` \"\n"
          ]
        },
        {
          "output_type": "stream",
          "name": "stdout",
          "text": [
            "28/28 [==============================] - 5s 172ms/step - loss: 2.8878 - accuracy: 0.1705\n"
          ]
        },
        {
          "output_type": "stream",
          "name": "stderr",
          "text": [
            "/usr/local/lib/python3.7/dist-packages/keras/optimizer_v2/adam.py:105: UserWarning: The `lr` argument is deprecated, use `learning_rate` instead.\n",
            "  super(Adam, self).__init__(name, **kwargs)\n",
            "/usr/local/lib/python3.7/dist-packages/tensorflow/python/data/ops/dataset_ops.py:4527: UserWarning: Even though the `tf.config.experimental_run_functions_eagerly` option is set, this option does not apply to tf.data functions. To force eager execution of tf.data functions, please use `tf.data.experimental.enable_debug_mode()`.\n",
            "  \"Even though the `tf.config.experimental_run_functions_eagerly` \"\n"
          ]
        },
        {
          "output_type": "stream",
          "name": "stdout",
          "text": [
            "28/28 [==============================] - 5s 174ms/step - loss: 2.8832 - accuracy: 0.1659\n"
          ]
        },
        {
          "output_type": "stream",
          "name": "stderr",
          "text": [
            "/usr/local/lib/python3.7/dist-packages/keras/optimizer_v2/adam.py:105: UserWarning: The `lr` argument is deprecated, use `learning_rate` instead.\n",
            "  super(Adam, self).__init__(name, **kwargs)\n",
            "/usr/local/lib/python3.7/dist-packages/tensorflow/python/data/ops/dataset_ops.py:4527: UserWarning: Even though the `tf.config.experimental_run_functions_eagerly` option is set, this option does not apply to tf.data functions. To force eager execution of tf.data functions, please use `tf.data.experimental.enable_debug_mode()`.\n",
            "  \"Even though the `tf.config.experimental_run_functions_eagerly` \"\n"
          ]
        },
        {
          "output_type": "stream",
          "name": "stdout",
          "text": [
            "28/28 [==============================] - 5s 170ms/step - loss: 2.8687 - accuracy: 0.1735\n"
          ]
        },
        {
          "output_type": "stream",
          "name": "stderr",
          "text": [
            "/usr/local/lib/python3.7/dist-packages/keras/optimizer_v2/adam.py:105: UserWarning: The `lr` argument is deprecated, use `learning_rate` instead.\n",
            "  super(Adam, self).__init__(name, **kwargs)\n",
            "/usr/local/lib/python3.7/dist-packages/tensorflow/python/data/ops/dataset_ops.py:4527: UserWarning: Even though the `tf.config.experimental_run_functions_eagerly` option is set, this option does not apply to tf.data functions. To force eager execution of tf.data functions, please use `tf.data.experimental.enable_debug_mode()`.\n",
            "  \"Even though the `tf.config.experimental_run_functions_eagerly` \"\n"
          ]
        },
        {
          "output_type": "stream",
          "name": "stdout",
          "text": [
            "28/28 [==============================] - 5s 172ms/step - loss: 2.8868 - accuracy: 0.1692\n"
          ]
        },
        {
          "output_type": "stream",
          "name": "stderr",
          "text": [
            "/usr/local/lib/python3.7/dist-packages/keras/optimizer_v2/adam.py:105: UserWarning: The `lr` argument is deprecated, use `learning_rate` instead.\n",
            "  super(Adam, self).__init__(name, **kwargs)\n",
            "/usr/local/lib/python3.7/dist-packages/tensorflow/python/data/ops/dataset_ops.py:4527: UserWarning: Even though the `tf.config.experimental_run_functions_eagerly` option is set, this option does not apply to tf.data functions. To force eager execution of tf.data functions, please use `tf.data.experimental.enable_debug_mode()`.\n",
            "  \"Even though the `tf.config.experimental_run_functions_eagerly` \"\n"
          ]
        },
        {
          "output_type": "stream",
          "name": "stdout",
          "text": [
            "28/28 [==============================] - 5s 170ms/step - loss: 2.8841 - accuracy: 0.1911\n"
          ]
        },
        {
          "output_type": "stream",
          "name": "stderr",
          "text": [
            "/usr/local/lib/python3.7/dist-packages/keras/optimizer_v2/adam.py:105: UserWarning: The `lr` argument is deprecated, use `learning_rate` instead.\n",
            "  super(Adam, self).__init__(name, **kwargs)\n",
            "/usr/local/lib/python3.7/dist-packages/tensorflow/python/data/ops/dataset_ops.py:4527: UserWarning: Even though the `tf.config.experimental_run_functions_eagerly` option is set, this option does not apply to tf.data functions. To force eager execution of tf.data functions, please use `tf.data.experimental.enable_debug_mode()`.\n",
            "  \"Even though the `tf.config.experimental_run_functions_eagerly` \"\n"
          ]
        },
        {
          "output_type": "stream",
          "name": "stdout",
          "text": [
            "28/28 [==============================] - 5s 172ms/step - loss: 2.8924 - accuracy: 0.1705\n"
          ]
        },
        {
          "output_type": "stream",
          "name": "stderr",
          "text": [
            "/usr/local/lib/python3.7/dist-packages/keras/optimizer_v2/adam.py:105: UserWarning: The `lr` argument is deprecated, use `learning_rate` instead.\n",
            "  super(Adam, self).__init__(name, **kwargs)\n",
            "/usr/local/lib/python3.7/dist-packages/tensorflow/python/data/ops/dataset_ops.py:4527: UserWarning: Even though the `tf.config.experimental_run_functions_eagerly` option is set, this option does not apply to tf.data functions. To force eager execution of tf.data functions, please use `tf.data.experimental.enable_debug_mode()`.\n",
            "  \"Even though the `tf.config.experimental_run_functions_eagerly` \"\n"
          ]
        },
        {
          "output_type": "stream",
          "name": "stdout",
          "text": [
            "28/28 [==============================] - 5s 171ms/step - loss: 2.9048 - accuracy: 0.1703\n"
          ]
        },
        {
          "output_type": "stream",
          "name": "stderr",
          "text": [
            "/usr/local/lib/python3.7/dist-packages/keras/optimizer_v2/adam.py:105: UserWarning: The `lr` argument is deprecated, use `learning_rate` instead.\n",
            "  super(Adam, self).__init__(name, **kwargs)\n",
            "/usr/local/lib/python3.7/dist-packages/tensorflow/python/data/ops/dataset_ops.py:4527: UserWarning: Even though the `tf.config.experimental_run_functions_eagerly` option is set, this option does not apply to tf.data functions. To force eager execution of tf.data functions, please use `tf.data.experimental.enable_debug_mode()`.\n",
            "  \"Even though the `tf.config.experimental_run_functions_eagerly` \"\n"
          ]
        },
        {
          "output_type": "stream",
          "name": "stdout",
          "text": [
            "28/28 [==============================] - 5s 171ms/step - loss: 2.8908 - accuracy: 0.1529\n"
          ]
        },
        {
          "output_type": "stream",
          "name": "stderr",
          "text": [
            "/usr/local/lib/python3.7/dist-packages/keras/optimizer_v2/adam.py:105: UserWarning: The `lr` argument is deprecated, use `learning_rate` instead.\n",
            "  super(Adam, self).__init__(name, **kwargs)\n",
            "/usr/local/lib/python3.7/dist-packages/tensorflow/python/data/ops/dataset_ops.py:4527: UserWarning: Even though the `tf.config.experimental_run_functions_eagerly` option is set, this option does not apply to tf.data functions. To force eager execution of tf.data functions, please use `tf.data.experimental.enable_debug_mode()`.\n",
            "  \"Even though the `tf.config.experimental_run_functions_eagerly` \"\n"
          ]
        },
        {
          "output_type": "stream",
          "name": "stdout",
          "text": [
            "28/28 [==============================] - 5s 171ms/step - loss: 2.8833 - accuracy: 0.1638\n"
          ]
        },
        {
          "output_type": "stream",
          "name": "stderr",
          "text": [
            "/usr/local/lib/python3.7/dist-packages/keras/optimizer_v2/adam.py:105: UserWarning: The `lr` argument is deprecated, use `learning_rate` instead.\n",
            "  super(Adam, self).__init__(name, **kwargs)\n",
            "/usr/local/lib/python3.7/dist-packages/tensorflow/python/data/ops/dataset_ops.py:4527: UserWarning: Even though the `tf.config.experimental_run_functions_eagerly` option is set, this option does not apply to tf.data functions. To force eager execution of tf.data functions, please use `tf.data.experimental.enable_debug_mode()`.\n",
            "  \"Even though the `tf.config.experimental_run_functions_eagerly` \"\n"
          ]
        },
        {
          "output_type": "stream",
          "name": "stdout",
          "text": [
            "28/28 [==============================] - 5s 172ms/step - loss: 2.8829 - accuracy: 0.1781\n"
          ]
        },
        {
          "output_type": "stream",
          "name": "stderr",
          "text": [
            "/usr/local/lib/python3.7/dist-packages/keras/optimizer_v2/adam.py:105: UserWarning: The `lr` argument is deprecated, use `learning_rate` instead.\n",
            "  super(Adam, self).__init__(name, **kwargs)\n",
            "/usr/local/lib/python3.7/dist-packages/tensorflow/python/data/ops/dataset_ops.py:4527: UserWarning: Even though the `tf.config.experimental_run_functions_eagerly` option is set, this option does not apply to tf.data functions. To force eager execution of tf.data functions, please use `tf.data.experimental.enable_debug_mode()`.\n",
            "  \"Even though the `tf.config.experimental_run_functions_eagerly` \"\n"
          ]
        },
        {
          "output_type": "stream",
          "name": "stdout",
          "text": [
            "28/28 [==============================] - 5s 170ms/step - loss: 2.8760 - accuracy: 0.1846\n"
          ]
        },
        {
          "output_type": "stream",
          "name": "stderr",
          "text": [
            "/usr/local/lib/python3.7/dist-packages/keras/optimizer_v2/adam.py:105: UserWarning: The `lr` argument is deprecated, use `learning_rate` instead.\n",
            "  super(Adam, self).__init__(name, **kwargs)\n",
            "/usr/local/lib/python3.7/dist-packages/tensorflow/python/data/ops/dataset_ops.py:4527: UserWarning: Even though the `tf.config.experimental_run_functions_eagerly` option is set, this option does not apply to tf.data functions. To force eager execution of tf.data functions, please use `tf.data.experimental.enable_debug_mode()`.\n",
            "  \"Even though the `tf.config.experimental_run_functions_eagerly` \"\n"
          ]
        },
        {
          "output_type": "stream",
          "name": "stdout",
          "text": [
            "28/28 [==============================] - 5s 172ms/step - loss: 2.8673 - accuracy: 0.1768\n"
          ]
        },
        {
          "output_type": "stream",
          "name": "stderr",
          "text": [
            "/usr/local/lib/python3.7/dist-packages/keras/optimizer_v2/adam.py:105: UserWarning: The `lr` argument is deprecated, use `learning_rate` instead.\n",
            "  super(Adam, self).__init__(name, **kwargs)\n",
            "/usr/local/lib/python3.7/dist-packages/tensorflow/python/data/ops/dataset_ops.py:4527: UserWarning: Even though the `tf.config.experimental_run_functions_eagerly` option is set, this option does not apply to tf.data functions. To force eager execution of tf.data functions, please use `tf.data.experimental.enable_debug_mode()`.\n",
            "  \"Even though the `tf.config.experimental_run_functions_eagerly` \"\n"
          ]
        },
        {
          "output_type": "stream",
          "name": "stdout",
          "text": [
            "28/28 [==============================] - 5s 172ms/step - loss: 2.8852 - accuracy: 0.1616\n"
          ]
        },
        {
          "output_type": "stream",
          "name": "stderr",
          "text": [
            "/usr/local/lib/python3.7/dist-packages/keras/optimizer_v2/adam.py:105: UserWarning: The `lr` argument is deprecated, use `learning_rate` instead.\n",
            "  super(Adam, self).__init__(name, **kwargs)\n",
            "/usr/local/lib/python3.7/dist-packages/tensorflow/python/data/ops/dataset_ops.py:4527: UserWarning: Even though the `tf.config.experimental_run_functions_eagerly` option is set, this option does not apply to tf.data functions. To force eager execution of tf.data functions, please use `tf.data.experimental.enable_debug_mode()`.\n",
            "  \"Even though the `tf.config.experimental_run_functions_eagerly` \"\n"
          ]
        },
        {
          "output_type": "stream",
          "name": "stdout",
          "text": [
            "28/28 [==============================] - 5s 171ms/step - loss: 2.9090 - accuracy: 0.1540\n"
          ]
        },
        {
          "output_type": "stream",
          "name": "stderr",
          "text": [
            "/usr/local/lib/python3.7/dist-packages/keras/optimizer_v2/adam.py:105: UserWarning: The `lr` argument is deprecated, use `learning_rate` instead.\n",
            "  super(Adam, self).__init__(name, **kwargs)\n",
            "/usr/local/lib/python3.7/dist-packages/tensorflow/python/data/ops/dataset_ops.py:4527: UserWarning: Even though the `tf.config.experimental_run_functions_eagerly` option is set, this option does not apply to tf.data functions. To force eager execution of tf.data functions, please use `tf.data.experimental.enable_debug_mode()`.\n",
            "  \"Even though the `tf.config.experimental_run_functions_eagerly` \"\n"
          ]
        },
        {
          "output_type": "stream",
          "name": "stdout",
          "text": [
            "28/28 [==============================] - 5s 172ms/step - loss: 2.8818 - accuracy: 0.1759\n"
          ]
        },
        {
          "output_type": "stream",
          "name": "stderr",
          "text": [
            "/usr/local/lib/python3.7/dist-packages/keras/optimizer_v2/adam.py:105: UserWarning: The `lr` argument is deprecated, use `learning_rate` instead.\n",
            "  super(Adam, self).__init__(name, **kwargs)\n",
            "/usr/local/lib/python3.7/dist-packages/tensorflow/python/data/ops/dataset_ops.py:4527: UserWarning: Even though the `tf.config.experimental_run_functions_eagerly` option is set, this option does not apply to tf.data functions. To force eager execution of tf.data functions, please use `tf.data.experimental.enable_debug_mode()`.\n",
            "  \"Even though the `tf.config.experimental_run_functions_eagerly` \"\n"
          ]
        },
        {
          "output_type": "stream",
          "name": "stdout",
          "text": [
            "28/28 [==============================] - 5s 171ms/step - loss: 2.8968 - accuracy: 0.1477\n"
          ]
        },
        {
          "output_type": "stream",
          "name": "stderr",
          "text": [
            "/usr/local/lib/python3.7/dist-packages/keras/optimizer_v2/adam.py:105: UserWarning: The `lr` argument is deprecated, use `learning_rate` instead.\n",
            "  super(Adam, self).__init__(name, **kwargs)\n",
            "/usr/local/lib/python3.7/dist-packages/tensorflow/python/data/ops/dataset_ops.py:4527: UserWarning: Even though the `tf.config.experimental_run_functions_eagerly` option is set, this option does not apply to tf.data functions. To force eager execution of tf.data functions, please use `tf.data.experimental.enable_debug_mode()`.\n",
            "  \"Even though the `tf.config.experimental_run_functions_eagerly` \"\n"
          ]
        },
        {
          "output_type": "stream",
          "name": "stdout",
          "text": [
            "28/28 [==============================] - 5s 170ms/step - loss: 2.8953 - accuracy: 0.1681\n"
          ]
        },
        {
          "output_type": "stream",
          "name": "stderr",
          "text": [
            "/usr/local/lib/python3.7/dist-packages/keras/optimizer_v2/adam.py:105: UserWarning: The `lr` argument is deprecated, use `learning_rate` instead.\n",
            "  super(Adam, self).__init__(name, **kwargs)\n",
            "/usr/local/lib/python3.7/dist-packages/tensorflow/python/data/ops/dataset_ops.py:4527: UserWarning: Even though the `tf.config.experimental_run_functions_eagerly` option is set, this option does not apply to tf.data functions. To force eager execution of tf.data functions, please use `tf.data.experimental.enable_debug_mode()`.\n",
            "  \"Even though the `tf.config.experimental_run_functions_eagerly` \"\n"
          ]
        },
        {
          "output_type": "stream",
          "name": "stdout",
          "text": [
            "28/28 [==============================] - 5s 171ms/step - loss: 2.8906 - accuracy: 0.1551\n"
          ]
        },
        {
          "output_type": "stream",
          "name": "stderr",
          "text": [
            "/usr/local/lib/python3.7/dist-packages/keras/optimizer_v2/adam.py:105: UserWarning: The `lr` argument is deprecated, use `learning_rate` instead.\n",
            "  super(Adam, self).__init__(name, **kwargs)\n",
            "/usr/local/lib/python3.7/dist-packages/tensorflow/python/data/ops/dataset_ops.py:4527: UserWarning: Even though the `tf.config.experimental_run_functions_eagerly` option is set, this option does not apply to tf.data functions. To force eager execution of tf.data functions, please use `tf.data.experimental.enable_debug_mode()`.\n",
            "  \"Even though the `tf.config.experimental_run_functions_eagerly` \"\n"
          ]
        },
        {
          "output_type": "stream",
          "name": "stdout",
          "text": [
            "28/28 [==============================] - 5s 172ms/step - loss: 2.9039 - accuracy: 0.1464\n"
          ]
        },
        {
          "output_type": "stream",
          "name": "stderr",
          "text": [
            "/usr/local/lib/python3.7/dist-packages/keras/optimizer_v2/adam.py:105: UserWarning: The `lr` argument is deprecated, use `learning_rate` instead.\n",
            "  super(Adam, self).__init__(name, **kwargs)\n",
            "/usr/local/lib/python3.7/dist-packages/tensorflow/python/data/ops/dataset_ops.py:4527: UserWarning: Even though the `tf.config.experimental_run_functions_eagerly` option is set, this option does not apply to tf.data functions. To force eager execution of tf.data functions, please use `tf.data.experimental.enable_debug_mode()`.\n",
            "  \"Even though the `tf.config.experimental_run_functions_eagerly` \"\n"
          ]
        },
        {
          "output_type": "stream",
          "name": "stdout",
          "text": [
            "28/28 [==============================] - 5s 170ms/step - loss: 2.8854 - accuracy: 0.1726\n"
          ]
        },
        {
          "output_type": "stream",
          "name": "stderr",
          "text": [
            "/usr/local/lib/python3.7/dist-packages/keras/optimizer_v2/adam.py:105: UserWarning: The `lr` argument is deprecated, use `learning_rate` instead.\n",
            "  super(Adam, self).__init__(name, **kwargs)\n",
            "/usr/local/lib/python3.7/dist-packages/tensorflow/python/data/ops/dataset_ops.py:4527: UserWarning: Even though the `tf.config.experimental_run_functions_eagerly` option is set, this option does not apply to tf.data functions. To force eager execution of tf.data functions, please use `tf.data.experimental.enable_debug_mode()`.\n",
            "  \"Even though the `tf.config.experimental_run_functions_eagerly` \"\n"
          ]
        },
        {
          "output_type": "stream",
          "name": "stdout",
          "text": [
            "28/28 [==============================] - 5s 171ms/step - loss: 2.8819 - accuracy: 0.1640\n"
          ]
        },
        {
          "output_type": "stream",
          "name": "stderr",
          "text": [
            "/usr/local/lib/python3.7/dist-packages/keras/optimizer_v2/adam.py:105: UserWarning: The `lr` argument is deprecated, use `learning_rate` instead.\n",
            "  super(Adam, self).__init__(name, **kwargs)\n",
            "/usr/local/lib/python3.7/dist-packages/tensorflow/python/data/ops/dataset_ops.py:4527: UserWarning: Even though the `tf.config.experimental_run_functions_eagerly` option is set, this option does not apply to tf.data functions. To force eager execution of tf.data functions, please use `tf.data.experimental.enable_debug_mode()`.\n",
            "  \"Even though the `tf.config.experimental_run_functions_eagerly` \"\n"
          ]
        },
        {
          "output_type": "stream",
          "name": "stdout",
          "text": [
            "28/28 [==============================] - 5s 170ms/step - loss: 2.8640 - accuracy: 0.1681\n"
          ]
        },
        {
          "output_type": "stream",
          "name": "stderr",
          "text": [
            "/usr/local/lib/python3.7/dist-packages/keras/optimizer_v2/adam.py:105: UserWarning: The `lr` argument is deprecated, use `learning_rate` instead.\n",
            "  super(Adam, self).__init__(name, **kwargs)\n",
            "/usr/local/lib/python3.7/dist-packages/tensorflow/python/data/ops/dataset_ops.py:4527: UserWarning: Even though the `tf.config.experimental_run_functions_eagerly` option is set, this option does not apply to tf.data functions. To force eager execution of tf.data functions, please use `tf.data.experimental.enable_debug_mode()`.\n",
            "  \"Even though the `tf.config.experimental_run_functions_eagerly` \"\n"
          ]
        },
        {
          "output_type": "stream",
          "name": "stdout",
          "text": [
            "28/28 [==============================] - 5s 172ms/step - loss: 2.8897 - accuracy: 0.1844\n"
          ]
        },
        {
          "output_type": "stream",
          "name": "stderr",
          "text": [
            "/usr/local/lib/python3.7/dist-packages/keras/optimizer_v2/adam.py:105: UserWarning: The `lr` argument is deprecated, use `learning_rate` instead.\n",
            "  super(Adam, self).__init__(name, **kwargs)\n",
            "/usr/local/lib/python3.7/dist-packages/tensorflow/python/data/ops/dataset_ops.py:4527: UserWarning: Even though the `tf.config.experimental_run_functions_eagerly` option is set, this option does not apply to tf.data functions. To force eager execution of tf.data functions, please use `tf.data.experimental.enable_debug_mode()`.\n",
            "  \"Even though the `tf.config.experimental_run_functions_eagerly` \"\n"
          ]
        },
        {
          "output_type": "stream",
          "name": "stdout",
          "text": [
            "28/28 [==============================] - 5s 170ms/step - loss: 2.8838 - accuracy: 0.1659\n"
          ]
        },
        {
          "output_type": "stream",
          "name": "stderr",
          "text": [
            "/usr/local/lib/python3.7/dist-packages/keras/optimizer_v2/adam.py:105: UserWarning: The `lr` argument is deprecated, use `learning_rate` instead.\n",
            "  super(Adam, self).__init__(name, **kwargs)\n",
            "/usr/local/lib/python3.7/dist-packages/tensorflow/python/data/ops/dataset_ops.py:4527: UserWarning: Even though the `tf.config.experimental_run_functions_eagerly` option is set, this option does not apply to tf.data functions. To force eager execution of tf.data functions, please use `tf.data.experimental.enable_debug_mode()`.\n",
            "  \"Even though the `tf.config.experimental_run_functions_eagerly` \"\n"
          ]
        },
        {
          "output_type": "stream",
          "name": "stdout",
          "text": [
            "28/28 [==============================] - 5s 171ms/step - loss: 2.8871 - accuracy: 0.1477\n"
          ]
        },
        {
          "output_type": "stream",
          "name": "stderr",
          "text": [
            "/usr/local/lib/python3.7/dist-packages/keras/optimizer_v2/adam.py:105: UserWarning: The `lr` argument is deprecated, use `learning_rate` instead.\n",
            "  super(Adam, self).__init__(name, **kwargs)\n",
            "/usr/local/lib/python3.7/dist-packages/tensorflow/python/data/ops/dataset_ops.py:4527: UserWarning: Even though the `tf.config.experimental_run_functions_eagerly` option is set, this option does not apply to tf.data functions. To force eager execution of tf.data functions, please use `tf.data.experimental.enable_debug_mode()`.\n",
            "  \"Even though the `tf.config.experimental_run_functions_eagerly` \"\n"
          ]
        },
        {
          "output_type": "stream",
          "name": "stdout",
          "text": [
            "28/28 [==============================] - 5s 171ms/step - loss: 2.8889 - accuracy: 0.1629\n"
          ]
        },
        {
          "output_type": "stream",
          "name": "stderr",
          "text": [
            "/usr/local/lib/python3.7/dist-packages/keras/optimizer_v2/adam.py:105: UserWarning: The `lr` argument is deprecated, use `learning_rate` instead.\n",
            "  super(Adam, self).__init__(name, **kwargs)\n",
            "/usr/local/lib/python3.7/dist-packages/tensorflow/python/data/ops/dataset_ops.py:4527: UserWarning: Even though the `tf.config.experimental_run_functions_eagerly` option is set, this option does not apply to tf.data functions. To force eager execution of tf.data functions, please use `tf.data.experimental.enable_debug_mode()`.\n",
            "  \"Even though the `tf.config.experimental_run_functions_eagerly` \"\n"
          ]
        },
        {
          "output_type": "stream",
          "name": "stdout",
          "text": [
            "28/28 [==============================] - 5s 171ms/step - loss: 2.8878 - accuracy: 0.1616\n"
          ]
        },
        {
          "output_type": "stream",
          "name": "stderr",
          "text": [
            "/usr/local/lib/python3.7/dist-packages/keras/optimizer_v2/adam.py:105: UserWarning: The `lr` argument is deprecated, use `learning_rate` instead.\n",
            "  super(Adam, self).__init__(name, **kwargs)\n",
            "/usr/local/lib/python3.7/dist-packages/tensorflow/python/data/ops/dataset_ops.py:4527: UserWarning: Even though the `tf.config.experimental_run_functions_eagerly` option is set, this option does not apply to tf.data functions. To force eager execution of tf.data functions, please use `tf.data.experimental.enable_debug_mode()`.\n",
            "  \"Even though the `tf.config.experimental_run_functions_eagerly` \"\n"
          ]
        },
        {
          "output_type": "stream",
          "name": "stdout",
          "text": [
            "28/28 [==============================] - 5s 171ms/step - loss: 2.8942 - accuracy: 0.1464\n"
          ]
        },
        {
          "output_type": "stream",
          "name": "stderr",
          "text": [
            "/usr/local/lib/python3.7/dist-packages/keras/optimizer_v2/adam.py:105: UserWarning: The `lr` argument is deprecated, use `learning_rate` instead.\n",
            "  super(Adam, self).__init__(name, **kwargs)\n",
            "/usr/local/lib/python3.7/dist-packages/tensorflow/python/data/ops/dataset_ops.py:4527: UserWarning: Even though the `tf.config.experimental_run_functions_eagerly` option is set, this option does not apply to tf.data functions. To force eager execution of tf.data functions, please use `tf.data.experimental.enable_debug_mode()`.\n",
            "  \"Even though the `tf.config.experimental_run_functions_eagerly` \"\n"
          ]
        },
        {
          "output_type": "stream",
          "name": "stdout",
          "text": [
            "28/28 [==============================] - 5s 171ms/step - loss: 2.8972 - accuracy: 0.1627\n"
          ]
        },
        {
          "output_type": "stream",
          "name": "stderr",
          "text": [
            "/usr/local/lib/python3.7/dist-packages/keras/optimizer_v2/adam.py:105: UserWarning: The `lr` argument is deprecated, use `learning_rate` instead.\n",
            "  super(Adam, self).__init__(name, **kwargs)\n",
            "/usr/local/lib/python3.7/dist-packages/tensorflow/python/data/ops/dataset_ops.py:4527: UserWarning: Even though the `tf.config.experimental_run_functions_eagerly` option is set, this option does not apply to tf.data functions. To force eager execution of tf.data functions, please use `tf.data.experimental.enable_debug_mode()`.\n",
            "  \"Even though the `tf.config.experimental_run_functions_eagerly` \"\n"
          ]
        },
        {
          "output_type": "stream",
          "name": "stdout",
          "text": [
            "34/34 [==============================] - 6s 176ms/step - loss: 2.8616 - accuracy: 0.1892\n"
          ]
        }
      ]
    },
    {
      "cell_type": "code",
      "metadata": {
        "colab": {
          "base_uri": "https://localhost:8080/"
        },
        "id": "thlwzYcYEjJc",
        "outputId": "622a4170-4d7e-4fe4-cb4b-fc7535f6bb4f"
      },
      "source": [
        "grid_search.best_params_"
      ],
      "execution_count": 114,
      "outputs": [
        {
          "output_type": "execute_result",
          "data": {
            "text/plain": [
              "{'batch_size': 34, 'nb_epoch': 75, 'optimizer': 'SGD'}"
            ]
          },
          "metadata": {},
          "execution_count": 114
        }
      ]
    },
    {
      "cell_type": "code",
      "metadata": {
        "colab": {
          "base_uri": "https://localhost:8080/"
        },
        "id": "5G8pSTV3HQtv",
        "outputId": "41907e4d-e199-4952-a6f2-a7687f2adf81"
      },
      "source": [
        "grid_search.best_score_"
      ],
      "execution_count": 115,
      "outputs": [
        {
          "output_type": "execute_result",
          "data": {
            "text/plain": [
              "0.2830227743271222"
            ]
          },
          "metadata": {},
          "execution_count": 115
        }
      ]
    },
    {
      "cell_type": "code",
      "metadata": {
        "id": "Ionlmc4dHS6E"
      },
      "source": [
        ""
      ],
      "execution_count": null,
      "outputs": []
    }
  ]
}